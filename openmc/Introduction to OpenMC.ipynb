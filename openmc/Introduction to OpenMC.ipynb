{
 "cells": [
  {
   "cell_type": "markdown",
   "id": "armed-toddler",
   "metadata": {
    "slideshow": {
     "slide_type": "slide"
    }
   },
   "source": [
    "# Introduction to OpenMC\n",
    "\n",
    "<img src=\"https://docs.openmc.org/en/stable/_static/openmc_logo.png\" width=\"600px\" />\n"
   ]
  },
  {
   "cell_type": "markdown",
   "id": "acting-patch",
   "metadata": {
    "slideshow": {
     "slide_type": "slide"
    }
   },
   "source": [
    "## What is OpenMC?\n",
    "\n",
    "### Characteristics\n",
    "\n",
    "  - **open source** Monte Carlo particle transport code\n",
    "  - adopts best practices for software development\n",
    "      - version control (git), code review, con. integration testing, etc.\n",
    "  - ease of installation, minimal 3rd party software\n",
    "  - easy, fun to use\n",
    "  \n",
    "### Focus\n",
    "  - HPC, modern architectures\n",
    "  - best physics models, when possible\n",
    "  - fostering a developer community\n"
   ]
  },
  {
   "cell_type": "markdown",
   "id": "departmental-fiction",
   "metadata": {
    "slideshow": {
     "slide_type": "slide"
    }
   },
   "source": [
    "## Feature Overview\n",
    "\n",
    "  - **Run Modes**: Fixed source, k-eigenvalue, volume, model plotting\n",
    "  - **Geometry**: constructive solid geometry (CSG), CAD-Based, unstructured mesh (tallies only)\n",
    "  - **Solvers**: Neutron and photon transport, depletion, stochastic volume calculation\n",
    "  - **Data**: Continuous energy or multigroup cross sections"
   ]
  },
  {
   "cell_type": "markdown",
   "id": "purple-vertex",
   "metadata": {
    "slideshow": {
     "slide_type": "slide"
    }
   },
   "source": [
    "# What makes OpenMC unique?\n",
    "\n",
    "  - Programming interfaces (C++/Python)\n",
    "  - Nuclear data interfaces and representation\n",
    "  - Tally abstractions\n",
    "  - Parallel Performance\n",
    "  - Development workflow and governance"
   ]
  },
  {
   "cell_type": "markdown",
   "id": "f8d6b82a",
   "metadata": {
    "slideshow": {
     "slide_type": "slide"
    }
   },
   "source": [
    "## Feature Overview\n",
    "\n",
    "  - **Run modes**: Fixed source, $k$-eigenvalue, volume calculation, plotting\n",
    "  - **Geometry**: Constructive solid geometry (CSG), CAD-based geometry\n",
    "  - **Solvers**: Neutron and photon transport, depletion, random ray\n",
    "  - **Data**: Continuous energy data or multigroup cross sections, multipole Doppler broadening\n"
   ]
  },
  {
   "cell_type": "markdown",
   "id": "d8751ad2",
   "metadata": {
    "slideshow": {
     "slide_type": "slide"
    }
   },
   "source": [
    "# Example: Advanced Test Reactor\n",
    "\n",
    "![](images/atr.png)"
   ]
  },
  {
   "cell_type": "markdown",
   "id": "52cf3bb2",
   "metadata": {},
   "source": [
    "# Example: ITER Tokamak\n",
    "\n",
    "<img src=\"images/iter-elite.png\" />"
   ]
  },
  {
   "cell_type": "markdown",
   "id": "cloudy-farmer",
   "metadata": {
    "slideshow": {
     "slide_type": "slide"
    }
   },
   "source": [
    "## Parallel Performance\n",
    "\n",
    "- ALCF Mira Super Computer (49,152 nodes; 786,432 cores; 3,145,728 threads)\n",
    "\n",
    "![](images/scaling_loglog.png)\n"
   ]
  },
  {
   "cell_type": "markdown",
   "id": "1c01fba8",
   "metadata": {
    "slideshow": {
     "slide_type": "slide"
    }
   },
   "source": [
    "# Computing Trends\n",
    "\n",
    "<img src=\"images/historical.png\" />"
   ]
  },
  {
   "cell_type": "code",
   "execution_count": 2,
   "id": "719fb933",
   "metadata": {
    "slideshow": {
     "slide_type": "slide"
    }
   },
   "outputs": [],
   "source": [
    "# Running OpenMC"
   ]
  },
  {
   "cell_type": "code",
   "execution_count": 1,
   "id": "cardiovascular-tumor",
   "metadata": {
    "slideshow": {
     "slide_type": "fragment"
    }
   },
   "outputs": [
    {
     "name": "stdout",
     "output_type": "stream",
     "text": [
      "<openmc.model.model.Model object at 0x7f22f0671460>\n"
     ]
    }
   ],
   "source": [
    "import openmc\n",
    "\n",
    "pwr_pincell = openmc.examples.pwr_pin_cell()\n",
    "print(pwr_pincell)\n",
    "pwr_pincell.run()"
   ]
  }
 ],
 "metadata": {
  "celltoolbar": "Slideshow",
  "kernelspec": {
   "display_name": "Python 3 (ipykernel)",
   "language": "python",
   "name": "python3"
  },
  "language_info": {
   "codemirror_mode": {
    "name": "ipython",
    "version": 3
   },
   "file_extension": ".py",
   "mimetype": "text/x-python",
   "name": "python",
   "nbconvert_exporter": "python",
   "pygments_lexer": "ipython3",
   "version": "3.12.3"
  }
 },
 "nbformat": 4,
 "nbformat_minor": 5
}
