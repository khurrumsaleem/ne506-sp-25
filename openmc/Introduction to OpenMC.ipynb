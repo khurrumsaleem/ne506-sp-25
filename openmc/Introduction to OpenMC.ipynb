{
 "cells": [
  {
   "cell_type": "markdown",
   "id": "armed-toddler",
   "metadata": {
    "editable": true,
    "slideshow": {
     "slide_type": "slide"
    },
    "tags": []
   },
   "source": [
    "# Introduction to\n",
    "\n",
    "<img src=\"https://docs.openmc.org/en/stable/_static/openmc_logo.png\" width=\"600px\" />\n"
   ]
  },
  {
   "cell_type": "markdown",
   "id": "acting-patch",
   "metadata": {
    "editable": true,
    "slideshow": {
     "slide_type": "slide"
    },
    "tags": []
   },
   "source": [
    "## What is OpenMC?\n",
    "\n",
    "### Characteristics\n",
    "\n",
    "  - **open source** Monte Carlo particle transport code\n",
    "  - adopts best practices for software development\n",
    "      - version control (git), code review, con. integration testing, etc.\n",
    "  - ease of installation, minimal 3rd party software\n",
    "  - easy, fun to use\n",
    "  \n",
    "### Focus\n",
    "  - HPC, modern architectures\n",
    "  - best physics models, when possible\n",
    "  - fostering a developer community\n"
   ]
  },
  {
   "cell_type": "markdown",
   "id": "departmental-fiction",
   "metadata": {
    "editable": true,
    "slideshow": {
     "slide_type": "slide"
    },
    "tags": []
   },
   "source": [
    "## Feature Overview\n",
    "\n",
    "  - **Run Modes**: Fixed source, k-eigenvalue, volume, model plotting\n",
    "  - **Geometry**: constructive solid geometry (CSG), CAD-Based, unstructured mesh\n",
    "  - **Solvers**: Neutron and photon transport, depletion, stochastic volume calculation\n",
    "  - **Data**: Continuous energy or multigroup cross sections"
   ]
  },
  {
   "cell_type": "markdown",
   "id": "purple-vertex",
   "metadata": {
    "editable": true,
    "slideshow": {
     "slide_type": "slide"
    },
    "tags": []
   },
   "source": [
    "# What makes OpenMC unique?\n",
    "\n",
    "  - Programming interfaces (C++/Python)\n",
    "  - Nuclear data interfaces and representation\n",
    "  - Tally abstractions\n",
    "  - Parallel Performance\n",
    "  - Development workflow and governance"
   ]
  },
  {
   "cell_type": "markdown",
   "id": "f8d6b82a",
   "metadata": {
    "editable": true,
    "slideshow": {
     "slide_type": "slide"
    },
    "tags": []
   },
   "source": [
    "## Feature Overview\n",
    "\n",
    "  - **Run modes**: Fixed source, $k$-eigenvalue, volume calculation, plotting\n",
    "  - **Geometry**: Constructive solid geometry (CSG), CAD-based geometry\n",
    "  - **Solvers**: Neutron and photon transport, depletion, random ray\n",
    "  - **Data**: Continuous energy data or multigroup cross sections, multipole Doppler broadening\n"
   ]
  },
  {
   "cell_type": "markdown",
   "id": "85d49911-d9ac-4e74-ab83-7010dcd26d71",
   "metadata": {
    "editable": true,
    "slideshow": {
     "slide_type": "slide"
    },
    "tags": []
   },
   "source": [
    "## Example: Advanced Test Reactor\n",
    "\n",
    "<img src=\"https://github.com/pshriwise/ne506-sp-25/blob/main/openmc/images/atr.png?raw=true\" width=600/>"
   ]
  },
  {
   "cell_type": "markdown",
   "id": "52cf3bb2",
   "metadata": {
    "editable": true,
    "slideshow": {
     "slide_type": ""
    },
    "tags": []
   },
   "source": [
    "## Example: ITER Tokamak\n",
    "\n",
    "<img src=\"https://github.com/pshriwise/ne506-sp-25/blob/main/openmc/images/iter-elite.png?raw=true\" width=600 />"
   ]
  },
  {
   "cell_type": "markdown",
   "id": "cloudy-farmer",
   "metadata": {
    "editable": true,
    "slideshow": {
     "slide_type": "slide"
    },
    "tags": []
   },
   "source": [
    "## Parallel Performance\n",
    "\n",
    "- ALCF Mira Super Computer (49,152 nodes; 786,432 cores; 3,145,728 threads)\n",
    "\n",
    "<img src=\"https://github.com/pshriwise/ne506-sp-25/blob/main/openmc/images/scaling_loglog.png?raw=true\" width=600 />\n"
   ]
  },
  {
   "cell_type": "markdown",
   "id": "1c01fba8",
   "metadata": {
    "editable": true,
    "slideshow": {
     "slide_type": "slide"
    },
    "tags": []
   },
   "source": [
    "## Computing Trends\n",
    "\n",
    "<img src=\"https://github.com/pshriwise/ne506-sp-25/blob/main/openmc/images/historical.png?raw=true\" width=600 />"
   ]
  },
  {
   "cell_type": "markdown",
   "id": "1206cde3-8e93-4d6e-8a9c-ea9ad0b8a40b",
   "metadata": {
    "editable": true,
    "slideshow": {
     "slide_type": "slide"
    },
    "tags": []
   },
   "source": [
    "# Running OpenMC"
   ]
  },
  {
   "cell_type": "code",
   "execution_count": 2,
   "id": "cardiovascular-tumor",
   "metadata": {
    "editable": true,
    "slideshow": {
     "slide_type": "fragment"
    },
    "tags": []
   },
   "outputs": [
    {
     "data": {
      "text/plain": [
       "<Axes: xlabel='x [cm]', ylabel='y [cm]'>"
      ]
     },
     "execution_count": 2,
     "metadata": {},
     "output_type": "execute_result"
    },
    {
     "data": {
      "image/png": "[encoded data removed]",
      "text/plain": [
       "<Figure size 258.065x259.74 with 1 Axes>"
      ]
     },
     "metadata": {},
     "output_type": "display_data"
    }
   ],
   "source": [
    "import openmc\n",
    "pwr_pincell = openmc.examples.pwr_pin_cell()\n",
    "pwr_pincell.plot()"
   ]
  },
  {
   "cell_type": "code",
   "execution_count": 3,
   "id": "c085b0dd-69eb-4604-84a4-543dad84f761",
   "metadata": {
    "editable": true,
    "slideshow": {
     "slide_type": "slide"
    },
    "tags": []
   },
   "outputs": [
    {
     "name": "stdout",
     "output_type": "stream",
     "text": [
      "                                %%%%%%%%%%%%%%%\n",
      "                           %%%%%%%%%%%%%%%%%%%%%%%%\n",
      "                        %%%%%%%%%%%%%%%%%%%%%%%%%%%%%%\n",
      "                      %%%%%%%%%%%%%%%%%%%%%%%%%%%%%%%%%%\n",
      "                    %%%%%%%%%%%%%%%%%%%%%%%%%%%%%%%%%%%%%%\n",
      "                   %%%%%%%%%%%%%%%%%%%%%%%%%%%%%%%%%%%%%%%%\n",
      "                                    %%%%%%%%%%%%%%%%%%%%%%%%\n",
      "                                     %%%%%%%%%%%%%%%%%%%%%%%%\n",
      "                 ###############      %%%%%%%%%%%%%%%%%%%%%%%%\n",
      "                ##################     %%%%%%%%%%%%%%%%%%%%%%%\n",
      "                ###################     %%%%%%%%%%%%%%%%%%%%%%%\n",
      "                ####################     %%%%%%%%%%%%%%%%%%%%%%\n",
      "                #####################     %%%%%%%%%%%%%%%%%%%%%\n",
      "                ######################     %%%%%%%%%%%%%%%%%%%%\n",
      "                #######################     %%%%%%%%%%%%%%%%%%\n",
      "                 #######################     %%%%%%%%%%%%%%%%%\n",
      "                 ######################     %%%%%%%%%%%%%%%%%\n",
      "                  ####################     %%%%%%%%%%%%%%%%%\n",
      "                    #################     %%%%%%%%%%%%%%%%%\n",
      "                     ###############     %%%%%%%%%%%%%%%%\n",
      "                       ############     %%%%%%%%%%%%%%%\n",
      "                          ########     %%%%%%%%%%%%%%\n",
      "                                      %%%%%%%%%%%\n",
      "\n",
      "                 | The OpenMC Monte Carlo Code\n",
      "       Copyright | 2011-2024 MIT, UChicago Argonne LLC, and contributors\n",
      "         License | https://docs.openmc.org/en/latest/license.html\n",
      "         Version | 0.15.1-dev\n",
      "        Git SHA1 | 21a0192c3369480092969bbf58f4f6a8c81077c6\n",
      "       Date/Time | 2025-02-10 22:35:01\n",
      "  OpenMP Threads | 16\n",
      "\n",
      " Reading model XML file 'model.xml' ...\n",
      " Reading cross sections XML file...\n",
      " Reading U234 from /home/pshriwise/data/xs/openmc/nndc_hdf5/U234.h5\n",
      " Reading U235 from /home/pshriwise/data/xs/openmc/nndc_hdf5/U235.h5\n",
      " Reading U238 from /home/pshriwise/data/xs/openmc/nndc_hdf5/U238.h5\n",
      " Reading O16 from /home/pshriwise/data/xs/openmc/nndc_hdf5/O16.h5\n",
      " Reading Zr90 from /home/pshriwise/data/xs/openmc/nndc_hdf5/Zr90.h5\n",
      " Reading Zr91 from /home/pshriwise/data/xs/openmc/nndc_hdf5/Zr91.h5\n",
      " Reading Zr92 from /home/pshriwise/data/xs/openmc/nndc_hdf5/Zr92.h5\n",
      " Reading Zr94 from /home/pshriwise/data/xs/openmc/nndc_hdf5/Zr94.h5\n",
      " Reading Zr96 from /home/pshriwise/data/xs/openmc/nndc_hdf5/Zr96.h5\n",
      " Reading H1 from /home/pshriwise/data/xs/openmc/nndc_hdf5/H1.h5\n",
      " Reading B10 from /home/pshriwise/data/xs/openmc/nndc_hdf5/B10.h5\n",
      " Reading B11 from /home/pshriwise/data/xs/openmc/nndc_hdf5/B11.h5\n",
      " Reading c_H_in_H2O from /home/pshriwise/data/xs/openmc/nndc_hdf5/c_H_in_H2O.h5\n",
      " Minimum neutron data temperature: 294 K\n",
      " Maximum neutron data temperature: 294 K\n",
      " Preparing distributed cell instances...\n",
      " Writing summary.h5 file...\n",
      " Maximum neutron transport energy: 20000000 eV for U235\n",
      " Initializing source particles...\n",
      "\n",
      " ====================>     K EIGENVALUE SIMULATION     <====================\n",
      "\n",
      "  Bat./Gen.      k            Average k\n",
      "  =========   ========   ====================\n",
      "        1/1    1.11232\n",
      "        2/1    1.03232\n",
      "        3/1    1.24787\n",
      "        4/1    1.16005\n",
      "        5/1    1.31810\n",
      "        6/1    1.24728\n",
      "        7/1    1.21148    1.22938 +/- 0.01790\n",
      "        8/1    1.17169    1.21015 +/- 0.02183\n",
      "        9/1    1.11739    1.18696 +/- 0.02786\n",
      "       10/1    1.13880    1.17733 +/- 0.02363\n",
      " Creating state point statepoint.10.h5...\n",
      "\n",
      " =======================>     TIMING STATISTICS     <=======================\n",
      "\n",
      " Total time for initialization     = 5.8004e-01 seconds\n",
      "   Reading cross sections          = 5.6469e-01 seconds\n",
      " Total time in simulation          = 9.1161e-03 seconds\n",
      "   Time in transport only          = 7.0426e-03 seconds\n",
      "   Time in inactive batches        = 3.7308e-03 seconds\n",
      "   Time in active batches          = 5.3853e-03 seconds\n",
      "   Time synchronizing fission bank = 5.4151e-05 seconds\n",
      "     Sampling source sites         = 3.7681e-05 seconds\n",
      "     SEND/RECV source sites        = 1.3919e-05 seconds\n",
      "   Time accumulating tallies       = 2.6360e-06 seconds\n",
      "   Time writing statepoints        = 1.6054e-03 seconds\n",
      " Total time for finalization       = 1.7830e-06 seconds\n",
      " Total time elapsed                = 5.9389e-01 seconds\n",
      " Calculation Rate (inactive)       = 134021 particles/second\n",
      " Calculation Rate (active)         = 92844.6 particles/second\n",
      "\n",
      " ============================>     RESULTS     <============================\n",
      "\n",
      " k-effective (Collision)     = 1.21332 +/- 0.05303\n",
      " k-effective (Track-length)  = 1.17733 +/- 0.02363\n",
      " k-effective (Absorption)    = 1.16208 +/- 0.04472\n",
      " Combined k-effective        = 1.17953 +/- 0.03364\n",
      " Leakage Fraction            = 0.00000 +/- 0.00000\n",
      "\n"
     ]
    },
    {
     "data": {
      "text/plain": [
       "PosixPath('/home/pshriwise/external/uw/ne506/ne506-sp-25/openmc/statepoint.10.h5')"
      ]
     },
     "execution_count": 3,
     "metadata": {},
     "output_type": "execute_result"
    }
   ],
   "source": [
    "pwr_pincell.run()"
   ]
  }
 ],
 "metadata": {
  "celltoolbar": "Slideshow",
  "kernelspec": {
   "display_name": "Python 3 (ipykernel)",
   "language": "python",
   "name": "python3"
  },
  "language_info": {
   "codemirror_mode": {
    "name": "ipython",
    "version": 3
   },
   "file_extension": ".py",
   "mimetype": "text/x-python",
   "name": "python",
   "nbconvert_exporter": "python",
   "pygments_lexer": "ipython3",
   "version": "3.12.7"
  }
 },
 "nbformat": 4,
 "nbformat_minor": 5
}
