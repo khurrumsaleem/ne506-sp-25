{
 "cells": [
  {
   "cell_type": "code",
   "execution_count": 1,
   "id": "prompt-bread",
   "metadata": {
    "editable": true,
    "slideshow": {
     "slide_type": "skip"
    },
    "tags": []
   },
   "outputs": [],
   "source": [
    "import openmc\n",
    "from matplotlib import pyplot as plt"
   ]
  },
  {
   "cell_type": "markdown",
   "id": "charming-timer",
   "metadata": {
    "editable": true,
    "slideshow": {
     "slide_type": "slide"
    },
    "tags": []
   },
   "source": [
    "# Advanced OpenMC Geometry\n",
    "\n",
    "In this module, we'll explore more complex geometry operations and transformations in OpenMC.\n",
    "\n",
    "Learning objectives:\n",
    "\n",
    "  - Define a general plane and determine its sense\n",
    "  - Determine the sense of a general plane\n",
    "  - Create a lattice Geometry  \n",
    "  - Cell translations and rotations\n",
    "  - Define polygon geometry\n",
    "  - Define axisymmetric geometry"
   ]
  },
  {
   "cell_type": "markdown",
   "id": "provincial-utility",
   "metadata": {
    "editable": true,
    "slideshow": {
     "slide_type": "slide"
    },
    "tags": []
   },
   "source": [
    "## General Planes\n",
    "\n",
    "Any three points can be used to define a plane in OpenMC. The positive or negative side of this surface is determined by the plane's normal vector (defined by the coefficients of a, b, and c)."
   ]
  },
  {
   "cell_type": "code",
   "execution_count": 2,
   "id": "demonstrated-organizer",
   "metadata": {
    "editable": true,
    "slideshow": {
     "slide_type": "fragment"
    },
    "tags": []
   },
   "outputs": [
    {
     "name": "stdout",
     "output_type": "stream",
     "text": [
      "(2.0, 2.0, 0.0) is on the negative side of the plane: False\n",
      "(-2.0, -2.0, 0.0) is on the negative side of the plane: False\n"
     ]
    }
   ],
   "source": [
    "plane = openmc.Plane.from_points((1, 0, 0), (0, 1, 0), (0, 0, 0))\n",
    "# Equivalent to:\n",
    "# plane = openmc.Plane(a=1.0, b=1.0, c=0.0, d=0.0)\n",
    "point0 = (2.0, 2.0, 0.0)\n",
    "print(f'{point0} is on the negative side of the plane: {point0 in -plane}')\n",
    "point1 = (-2.0, -2.0, 0.0)\n",
    "print(f'{point1} is on the negative side of the plane: {point1 in -plane}')\n"
   ]
  },
  {
   "cell_type": "code",
   "execution_count": 3,
   "id": "banned-situation",
   "metadata": {
    "editable": true,
    "slideshow": {
     "slide_type": "subslide"
    },
    "tags": []
   },
   "outputs": [
    {
     "data": {
      "image/png": "[encoded data removed]",
      "text/plain": [
       "<Figure size 258.065x259.74 with 1 Axes>"
      ]
     },
     "metadata": {},
     "output_type": "display_data"
    }
   ],
   "source": [
    "univ = openmc.Universe()\n",
    "univ.add_cell(openmc.Cell(region=-plane))\n",
    "univ.plot(width=(5,5))\n",
    "plt.show()"
   ]
  },
  {
   "cell_type": "markdown",
   "id": "a0d7e484",
   "metadata": {
    "editable": true,
    "slideshow": {
     "slide_type": "subslide"
    },
    "tags": []
   },
   "source": [
    "Flipping the signs of the plane coefficients here produces the same plane, but with opposite positive and negative sides."
   ]
  },
  {
   "cell_type": "code",
   "execution_count": 4,
   "id": "contemporary-bacteria",
   "metadata": {
    "editable": true,
    "slideshow": {
     "slide_type": "fragment"
    },
    "tags": []
   },
   "outputs": [
    {
     "data": {
      "image/png": "[encoded data removed]",
      "text/plain": [
       "<Figure size 258.065x259.74 with 1 Axes>"
      ]
     },
     "metadata": {},
     "output_type": "display_data"
    }
   ],
   "source": [
    "plane = openmc.Plane(a=-1.0, b=-1.0, c=0.0, d=0.0)\n",
    "cell = openmc.Cell(region=+plane)\n",
    "univ = openmc.Universe(cells=[cell])\n",
    "univ.plot(width=(5, 5))\n",
    "plt.show()"
   ]
  },
  {
   "cell_type": "code",
   "execution_count": 5,
   "id": "pleased-increase",
   "metadata": {
    "editable": true,
    "slideshow": {
     "slide_type": "subslide"
    },
    "tags": []
   },
   "outputs": [
    {
     "data": {
      "image/png": "[encoded data removed]",
      "text/plain": [
       "<Figure size 258.065x259.74 with 1 Axes>"
      ]
     },
     "metadata": {},
     "output_type": "display_data"
    }
   ],
   "source": [
    "univ = openmc.Universe()\n",
    "cell = openmc.Cell(region=-plane)\n",
    "univ.add_cell(cell)\n",
    "univ.plot(width=(5,5))\n",
    "plt.show()"
   ]
  },
  {
   "cell_type": "markdown",
   "id": "f52e3b6e-20bd-4630-a06d-1afdb9632b37",
   "metadata": {
    "editable": true,
    "slideshow": {
     "slide_type": "slide"
    },
    "tags": []
   },
   "source": [
    "# Material Fills\n",
    "\n",
    "We'll learn more about how to define materials later, but for now it's enough for us to know how to define a smiple material and assign it to a cell."
   ]
  },
  {
   "cell_type": "code",
   "execution_count": 6,
   "id": "982e1678-c2ed-4690-945f-469f7ad5146e",
   "metadata": {
    "editable": true,
    "slideshow": {
     "slide_type": "subslide"
    },
    "tags": []
   },
   "outputs": [],
   "source": [
    "# create material\n",
    "water = openmc.Material()\n",
    "water.set_density('g/cc', 1.0)\n",
    "water.add_nuclide('H1', 2.0)\n",
    "water.add_nuclide('O16', 1.0)\n",
    "\n",
    "# assign material to a cell\n",
    "cell.fill = water"
   ]
  },
  {
   "cell_type": "markdown",
   "id": "b9730e87",
   "metadata": {
    "editable": true,
    "slideshow": {
     "slide_type": "slide"
    },
    "tags": []
   },
   "source": [
    "# Universe Fills\n",
    "\n",
    "In addition to materials, cells can also be filled with universes. This allows us to leverage some interesting properties of cells. Namely, translations and rotations.\n",
    "\n",
    "We'll begin by creating three planes"
   ]
  },
  {
   "cell_type": "code",
   "execution_count": 7,
   "id": "170ca085",
   "metadata": {
    "editable": true,
    "slideshow": {
     "slide_type": "fragment"
    },
    "tags": []
   },
   "outputs": [],
   "source": [
    "plane_1 = openmc.Plane(a=1.0, b=1.0, c=0.0, d=2.5)\n",
    "plane_2 = openmc.Plane(a=-1.0, b=1.0, c=0.0, d=2.5)\n",
    "plane_3 = openmc.Plane(a=0.0, b=1.0, c=0.0, d=0.0)"
   ]
  },
  {
   "cell_type": "markdown",
   "id": "a38ed263",
   "metadata": {
    "editable": true,
    "slideshow": {
     "slide_type": "subslide"
    },
    "tags": []
   },
   "source": [
    "Choose the sides of the planes to create a triangle region. Then we'll plot that region using a cell."
   ]
  },
  {
   "cell_type": "code",
   "execution_count": 8,
   "id": "07ddb016",
   "metadata": {
    "editable": true,
    "slideshow": {
     "slide_type": "fragment"
    },
    "tags": []
   },
   "outputs": [],
   "source": [
    "triangle_region = -plane_1 & -plane_2 & +plane_3\n",
    "triangle_cell = openmc.Cell(region=triangle_region)\n",
    "triangle_univ = openmc.Universe(cells=[triangle_cell])"
   ]
  },
  {
   "cell_type": "code",
   "execution_count": 9,
   "id": "ee9c6296",
   "metadata": {
    "editable": true,
    "slideshow": {
     "slide_type": "subslide"
    },
    "tags": []
   },
   "outputs": [
    {
     "data": {
      "image/png": "[encoded data removed]",
      "text/plain": [
       "<Figure size 258.065x259.74 with 1 Axes>"
      ]
     },
     "metadata": {},
     "output_type": "display_data"
    }
   ],
   "source": [
    "triangle_univ.plot()\n",
    "plt.show()"
   ]
  },
  {
   "cell_type": "markdown",
   "id": "a1681a24",
   "metadata": {
    "editable": true,
    "slideshow": {
     "slide_type": "subslide"
    },
    "tags": []
   },
   "source": [
    "Now we can create another cell that is filled with the triangle universe and apply a translation to move the contents inside the new cell."
   ]
  },
  {
   "cell_type": "code",
   "execution_count": 10,
   "id": "3219189d",
   "metadata": {
    "editable": true,
    "slideshow": {
     "slide_type": "fragment"
    },
    "tags": []
   },
   "outputs": [],
   "source": [
    "upper_cell = openmc.Cell(fill=triangle_univ)\n",
    "upper_cell.translation = (0.0, -5.0, 0.0)\n",
    "upper_univ = openmc.Universe(cells=[upper_cell])"
   ]
  },
  {
   "cell_type": "code",
   "execution_count": 11,
   "id": "01e33369",
   "metadata": {
    "editable": true,
    "slideshow": {
     "slide_type": "subslide"
    },
    "tags": []
   },
   "outputs": [
    {
     "data": {
      "image/png": "[encoded data removed]",
      "text/plain": [
       "<Figure size 258.065x259.74 with 1 Axes>"
      ]
     },
     "metadata": {},
     "output_type": "display_data"
    }
   ],
   "source": [
    "upper_univ.plot()\n",
    "plt.show()"
   ]
  },
  {
   "cell_type": "markdown",
   "id": "4f69cbec",
   "metadata": {
    "editable": true,
    "slideshow": {
     "slide_type": "subslide"
    },
    "tags": []
   },
   "source": [
    "These contents can be rotated as well. Each entry in the `Cell`'s rotation attribute applies a roatation (in degrees) about the X, Y, and Z axes, respectively. "
   ]
  },
  {
   "cell_type": "code",
   "execution_count": 12,
   "id": "618c218f",
   "metadata": {
    "editable": true,
    "slideshow": {
     "slide_type": "fragment"
    },
    "tags": []
   },
   "outputs": [
    {
     "data": {
      "image/png": "[encoded data removed]",
      "text/plain": [
       "<Figure size 258.065x259.74 with 1 Axes>"
      ]
     },
     "metadata": {},
     "output_type": "display_data"
    }
   ],
   "source": [
    "upper_cell.translation = (0, 0, 0)\n",
    "upper_cell.rotation = (0, 0, 90)\n",
    "upper_univ.plot()\n",
    "plt.show()"
   ]
  },
  {
   "cell_type": "markdown",
   "id": "1afb4abc-b4f6-4fa0-b981-ae85e37ad0b4",
   "metadata": {
    "editable": true,
    "slideshow": {
     "slide_type": "slide"
    },
    "tags": []
   },
   "source": [
    "# Composite Surfaces\n",
    "\n",
    "Composite surfaces are combinations of the basic primitive surface types in OpenMC available for convenience. We've seen one of these already, `HexagonalPrism`. These range from the relatively simple an more obviously useful like\n",
    "\n",
    "  - `openmc.model.RectangularParallelpiped` (a box)\n",
    "  - `openmc.model.RectnagularPrism` (a 2D box)\n",
    "  - `openmc.model.CylinderSector`\n",
    "\n",
    "to more complex objects such as\n",
    "\n",
    "  - `openmc.model.CruciformPrism`\n",
    "  - `openmc.model.ConcialFrustrum`\n",
    "  - `openmc.model.Polygon`\n",
    "  "
   ]
  },
  {
   "cell_type": "markdown",
   "id": "182f29ee-cd8a-45e2-bb27-71c4c8060464",
   "metadata": {
    "editable": true,
    "slideshow": {
     "slide_type": "subslide"
    },
    "tags": []
   },
   "source": [
    "## Polygon Surfaces\n",
    "\n",
    "One of OpenMC's [`CompositeSurface`](https://docs.openmc.org/en/stable/pythonapi/model.html?highlight=composite%20surfaces#composite-surfaces)'s is a polygon surface. It allows a set of points defining a ploygon to be built into a surface \n"
   ]
  },
  {
   "cell_type": "code",
   "execution_count": 13,
   "id": "paperback-howard",
   "metadata": {
    "editable": true,
    "slideshow": {
     "slide_type": "fragment"
    },
    "tags": []
   },
   "outputs": [],
   "source": [
    "points = [(0.5, 0.0), (0.5, 1.0), (1.0, 1.0), \\\n",
    "          (0.0, 2.0), (-1.0, 1.0), (-0.5, 1.0), (-0.5, 0.0)]\n",
    "tee_surface = openmc.model.Polygon(points, basis='xy')"
   ]
  },
  {
   "cell_type": "code",
   "execution_count": 14,
   "id": "54f6d95b",
   "metadata": {
    "editable": true,
    "slideshow": {
     "slide_type": "subslide"
    },
    "tags": []
   },
   "outputs": [
    {
     "data": {
      "image/png": "[encoded data removed]",
      "text/plain": [
       "<Figure size 516.129x519.481 with 1 Axes>"
      ]
     },
     "metadata": {},
     "output_type": "display_data"
    }
   ],
   "source": [
    "tee_cell = openmc.Cell(region=-tee_surface)\n",
    "tee_univ = openmc.Universe(cells=[tee_cell])\n",
    "tee_univ.plot(width=(2, 2),\n",
    "              origin=(0.0, 1.0, 0.0),\n",
    "              pixels=(400, 400))\n",
    "plt.show()"
   ]
  },
  {
   "cell_type": "markdown",
   "id": "f5c94b07-5329-42b4-9852-624570bb011c",
   "metadata": {
    "editable": true,
    "slideshow": {
     "slide_type": "subslide"
    },
    "tags": []
   },
   "source": [
    "## Axisymmetric Surfaces\n",
    "\n",
    "Axisymmetric surfaces can be generated as well using a \"rz\" basis of the `Polygon` composite surface. First, we'll define a profile using an \"xy\" basis.\n"
   ]
  },
  {
   "cell_type": "code",
   "execution_count": 15,
   "id": "fa72f556",
   "metadata": {
    "editable": true,
    "slideshow": {
     "slide_type": "fragment"
    },
    "tags": []
   },
   "outputs": [],
   "source": [
    "points = [(0.1, 2.0), (0.5, 1.5), (0.5, 1.25),\n",
    "          (0.25, 1.0), (0.5, 0.75), (0.5, 0.5), (0.1, 0.0)]\n",
    "tee_surface = openmc.model.Polygon(points, basis='xy')"
   ]
  },
  {
   "cell_type": "code",
   "execution_count": 16,
   "id": "5b7502df",
   "metadata": {
    "editable": true,
    "slideshow": {
     "slide_type": "subslide"
    },
    "tags": []
   },
   "outputs": [
    {
     "data": {
      "image/png": "[encoded data removed]",
      "text/plain": [
       "<Figure size 516.129x519.481 with 1 Axes>"
      ]
     },
     "metadata": {},
     "output_type": "display_data"
    }
   ],
   "source": [
    "tee_cell = openmc.Cell(region=-tee_surface)\n",
    "tee_univ = openmc.Universe(cells=[tee_cell])\n",
    "tee_univ.plot(width=(2, 2),\n",
    "              origin=(0.0, 1.0, 0.0),\n",
    "              pixels=(400, 400), basis='xy')\n",
    "plt.show()"
   ]
  },
  {
   "cell_type": "markdown",
   "id": "eabd2f2a-f003-443f-9240-1553d0f985ca",
   "metadata": {
    "editable": true,
    "slideshow": {
     "slide_type": "subslide"
    },
    "tags": []
   },
   "source": [
    "Now we'll change the polygon surface basis to \"rz\" and plot it in the \"xz\" plane."
   ]
  },
  {
   "cell_type": "code",
   "execution_count": 17,
   "id": "a096b01c",
   "metadata": {
    "editable": true,
    "slideshow": {
     "slide_type": "fragment"
    },
    "tags": []
   },
   "outputs": [],
   "source": [
    "tee_surface = openmc.model.Polygon(points, basis='rz')\n"
   ]
  },
  {
   "cell_type": "code",
   "execution_count": 18,
   "id": "6fc9733b",
   "metadata": {
    "editable": true,
    "slideshow": {
     "slide_type": "subslide"
    },
    "tags": []
   },
   "outputs": [
    {
     "data": {
      "image/png": "[encoded data removed]",
      "text/plain": [
       "<Figure size 516.129x519.481 with 1 Axes>"
      ]
     },
     "metadata": {},
     "output_type": "display_data"
    }
   ],
   "source": [
    "tee_cell = openmc.Cell(region=-tee_surface)\n",
    "tee_univ = openmc.Universe(cells=[tee_cell])\n",
    "tee_univ.plot(width=(2, 2),\n",
    "             origin=(0.0, 0.0, 1.0),\n",
    "             pixels=(400, 400), basis='xz')\n",
    "plt.show()"
   ]
  },
  {
   "cell_type": "markdown",
   "id": "72247065-2fe5-482d-a87a-ad2c0560b2ec",
   "metadata": {
    "editable": true,
    "slideshow": {
     "slide_type": "subslide"
    },
    "tags": []
   },
   "source": [
    "By changing the plot of the surface to the \"xy\" plane, we can prove to ourselves that this is in fact a revolved surface around the Z axis."
   ]
  },
  {
   "cell_type": "code",
   "execution_count": 19,
   "id": "f9440c47",
   "metadata": {
    "editable": true,
    "slideshow": {
     "slide_type": "fragment"
    },
    "tags": []
   },
   "outputs": [
    {
     "data": {
      "image/png": "[encoded data removed]",
      "text/plain": [
       "<Figure size 516.129x519.481 with 1 Axes>"
      ]
     },
     "metadata": {},
     "output_type": "display_data"
    }
   ],
   "source": [
    "\n",
    "tee_univ.plot(width=(2, 2),\n",
    "              origin=(0.0, 0.0, 1.5),\n",
    "              pixels=(400, 400), basis='xy')\n",
    "plt.show()"
   ]
  },
  {
   "cell_type": "code",
   "execution_count": 20,
   "id": "7cc61bd9",
   "metadata": {
    "editable": true,
    "slideshow": {
     "slide_type": "subslide"
    },
    "tags": []
   },
   "outputs": [
    {
     "data": {
      "image/png": "[encoded data removed]",
      "text/plain": [
       "<Figure size 516.129x519.481 with 1 Axes>"
      ]
     },
     "metadata": {},
     "output_type": "display_data"
    }
   ],
   "source": [
    "\n",
    "tee_univ.plot(width=(2, 2),\n",
    "              origin=(0.0, 0.0, 1.1),\n",
    "              pixels=(400, 400), basis='xy')\n",
    "plt.show()"
   ]
  },
  {
   "cell_type": "markdown",
   "id": "executed-nebraska",
   "metadata": {
    "editable": true,
    "slideshow": {
     "slide_type": "slide"
    },
    "tags": []
   },
   "source": [
    "# Lattices\n",
    "\n",
    "With lattices `Universe`'s can be used to support duplication of geometry units with the goal of reducing duplicated input and in turn decreasing the likelihood of input errors.\n",
    "\n",
    "Any cell can be filled with a universe. Like most other Monte Carlo codes, OpenMC contains lattice constructs that structure the replicated geometry for us. In the same way that universes act as a collection of cells, lattices act as a collection of unvierses -- with some spatial structure built-in.\n",
    "\n",
    "OpenMC supports both regular (rectangular) and hexagonal lattice structures. Detailed documentation on these objects can be found [here](https://docs.openmc.org/en/stable/usersguide/geometry.html#lattices).\n"
   ]
  },
  {
   "cell_type": "code",
   "execution_count": 21,
   "id": "8f936674",
   "metadata": {
    "editable": true,
    "slideshow": {
     "slide_type": "fragment"
    },
    "tags": []
   },
   "outputs": [
    {
     "data": {
      "text/plain": [
       "openmc.lattice.HexLattice"
      ]
     },
     "execution_count": 21,
     "metadata": {},
     "output_type": "execute_result"
    }
   ],
   "source": [
    "openmc.RectLattice\n",
    "openmc.HexLattice"
   ]
  },
  {
   "cell_type": "markdown",
   "id": "6af63cda",
   "metadata": {
    "editable": true,
    "slideshow": {
     "slide_type": "subslide"
    },
    "tags": []
   },
   "source": [
    "We'll define a pincell model to demonstrate some geometry features in OpenMC for use in demonstrating lattice later on."
   ]
  },
  {
   "cell_type": "code",
   "execution_count": 22,
   "id": "otherwise-traveler",
   "metadata": {
    "editable": true,
    "slideshow": {
     "slide_type": "fragment"
    },
    "tags": []
   },
   "outputs": [],
   "source": [
    "fuel_or = openmc.ZCylinder(r=0.39)\n",
    "clad_ir = openmc.ZCylinder(r=0.40)\n",
    "clad_or = openmc.ZCylinder(r=0.46)\n",
    "fuel = openmc.Cell(name='fuel', region=-fuel_or)\n",
    "gap = openmc.Cell(name='air gap', region=+fuel_or & -clad_ir)\n",
    "clad = openmc.Cell(name='clad', region=+clad_ir & -clad_or)\n",
    "moderator = openmc.Cell(name='moderator', region=+clad_or)\n",
    "fuel_pin = openmc.Universe(cells=(fuel, gap, clad, moderator))"
   ]
  },
  {
   "cell_type": "markdown",
   "id": "85bf4ea7",
   "metadata": {
    "editable": true,
    "slideshow": {
     "slide_type": "subslide"
    },
    "tags": []
   },
   "source": [
    "Note that the outermost cell, `moderator`, is unbounded."
   ]
  },
  {
   "cell_type": "code",
   "execution_count": 23,
   "id": "unavailable-office",
   "metadata": {
    "editable": true,
    "slideshow": {
     "slide_type": "fragment"
    },
    "tags": []
   },
   "outputs": [
    {
     "data": {
      "image/png": "[encoded data removed]",
      "text/plain": [
       "<Figure size 516.129x519.481 with 1 Axes>"
      ]
     },
     "metadata": {},
     "output_type": "display_data"
    }
   ],
   "source": [
    "fuel_pin.plot(pixels=(400, 400))\n",
    "plt.show()"
   ]
  },
  {
   "cell_type": "markdown",
   "id": "little-division",
   "metadata": {
    "editable": true,
    "slideshow": {
     "slide_type": "subslide"
    },
    "tags": []
   },
   "source": [
    "## Lattice Fills\n",
    "\n",
    "`Lattice`'s create \"lattice cells\" with a predefined size. `Universe`'s can be used to fill these cells. In this case, we'll replicate our single pincell by filling each lattice cell with the pincell universe we've created above."
   ]
  },
  {
   "cell_type": "markdown",
   "id": "84d1d246",
   "metadata": {
    "editable": true,
    "slideshow": {
     "slide_type": "subslide"
    },
    "tags": []
   },
   "source": [
    "We'll start by creating a 2D rectangular lattice with a 2 cm pitch (distance from the center of one lattice cell to the adjacent cell) in both the X and Y directions. OpenMC lattices can replicate geometry in either two or three dimensions. By nature of having two entries, this lattice is 2D. A third entry would be applied to lattice cells in the Z dimension."
   ]
  },
  {
   "cell_type": "code",
   "execution_count": 24,
   "id": "early-variance",
   "metadata": {
    "editable": true,
    "slideshow": {
     "slide_type": "fragment"
    },
    "tags": []
   },
   "outputs": [],
   "source": [
    "lattice = openmc.RectLattice()\n",
    "lattice.pitch = (2, 2)"
   ]
  },
  {
   "cell_type": "markdown",
   "id": "af50945c",
   "metadata": {
    "editable": true,
    "slideshow": {
     "slide_type": "subslide"
    },
    "tags": []
   },
   "source": [
    "We specify which universes are used to fill lattices by populating the lattce's `universes` argument. For a 2D lattice, this is a doubly-nested set of lists where the inner list represents the set of universes for the \"X rows\" of the lattice. For a 3D, lattice the lists would be triply-nested. The `lower_left` attribute describes where the lattice begins space."
   ]
  },
  {
   "cell_type": "code",
   "execution_count": 25,
   "id": "cb24bf5e",
   "metadata": {
    "editable": true,
    "slideshow": {
     "slide_type": "fragment"
    },
    "tags": []
   },
   "outputs": [],
   "source": [
    "# by nautre of being a 2D lattice, this expects a list of lists\n",
    "# where each interior\n",
    "lattice.universes = [[fuel_pin] * 2] * 2\n",
    "lattice.lower_left = (0, 0)"
   ]
  },
  {
   "cell_type": "markdown",
   "id": "29a11df2",
   "metadata": {
    "editable": true,
    "slideshow": {
     "slide_type": "subslide"
    },
    "tags": []
   },
   "source": [
    "Now we fill a cell with this lattice and use a universe to generate a plot."
   ]
  },
  {
   "cell_type": "code",
   "execution_count": 26,
   "id": "c175b704",
   "metadata": {
    "editable": true,
    "slideshow": {
     "slide_type": "fragment"
    },
    "tags": []
   },
   "outputs": [
    {
     "data": {
      "text/plain": [
       "<Axes: xlabel='x [cm]', ylabel='y [cm]'>"
      ]
     },
     "execution_count": 26,
     "metadata": {},
     "output_type": "execute_result"
    },
    {
     "data": {
      "image/png": "[encoded data removed]",
      "text/plain": [
       "<Figure size 516.129x519.481 with 1 Axes>"
      ]
     },
     "metadata": {},
     "output_type": "display_data"
    }
   ],
   "source": [
    "lattice_cell = openmc.Cell(fill=lattice)\n",
    "lattice_univ = openmc.Universe(cells=[lattice_cell])\n",
    "lattice_univ.plot(width=(4, 4), origin=(2, 2, 0.0), pixels=(400, 400))"
   ]
  },
  {
   "cell_type": "markdown",
   "id": "complicated-edward",
   "metadata": {
    "editable": true,
    "slideshow": {
     "slide_type": "subslide"
    },
    "tags": []
   },
   "source": [
    "More realistically, we can use the PWR pincell model to create a more meaningful lattice..."
   ]
  },
  {
   "cell_type": "code",
   "execution_count": 27,
   "id": "continued-tower",
   "metadata": {
    "editable": true,
    "slideshow": {
     "slide_type": "fragment"
    },
    "tags": []
   },
   "outputs": [],
   "source": [
    "# create a 17 by 17 pincell lattice\n",
    "pitch = 1.26\n",
    "pincell_lattice = openmc.RectLattice()\n",
    "pincell_lattice.lower_left = (0, 0)\n",
    "pincell_lattice.pitch = (pitch, pitch)\n",
    "pincell_lattice.universes = [[fuel_pin]*17]*17"
   ]
  },
  {
   "cell_type": "code",
   "execution_count": 28,
   "id": "missing-editing",
   "metadata": {
    "editable": true,
    "slideshow": {
     "slide_type": "subslide"
    },
    "tags": []
   },
   "outputs": [],
   "source": [
    "# define a cell that is filled with the lattice\n",
    "pwr_lattice_region = -openmc.model.RectangularPrism(\n",
    "    origin=2*[0.5*17*pitch],\n",
    "    width=17*pitch,\n",
    "    height=17*pitch,\n",
    "    boundary_type='reflective')\n",
    "\n",
    "pwr_lattice_cell = openmc.Cell(fill=pincell_lattice,\n",
    "                               region=pwr_lattice_region)\n",
    "pwr_lattice_univ = openmc.Universe(cells=[pwr_lattice_cell])"
   ]
  },
  {
   "cell_type": "code",
   "execution_count": 29,
   "id": "human-reporter",
   "metadata": {
    "editable": true,
    "slideshow": {
     "slide_type": "subslide"
    },
    "tags": []
   },
   "outputs": [
    {
     "data": {
      "image/png": "[encoded data removed]",
      "text/plain": [
       "<Figure size 516.129x519.481 with 1 Axes>"
      ]
     },
     "metadata": {},
     "output_type": "display_data"
    }
   ],
   "source": [
    "pwr_lattice_univ.plot(pixels=(400, 400))\n",
    "plt.show()"
   ]
  },
  {
   "cell_type": "markdown",
   "id": "atmospheric-sperm",
   "metadata": {
    "editable": true,
    "slideshow": {
     "slide_type": "subslide"
    },
    "tags": []
   },
   "source": [
    "# Hexagonal Lattices\n",
    "\n",
    "OpenMC also supports hexagonal lattices. Edges of the lattice can be aligned with either the X or Y axis.\n",
    "\n",
    "A skewed coordinate system is used for indexing hexagonal lattice tiles. Rather than a y-axis, another axis is used that is rotated 30 degrees counter-clockwise from the y-axis. This axis is referred to as the α-axis. The image below shows how 2D hexagonal tiles are mapped with the (x,α) basis. In this system, (0, 0) maps to the center tile, (0, 2) to the top tile, and (2, -1) to the middle tile on the right side."
   ]
  },
  {
   "cell_type": "markdown",
   "id": "alpine-hierarchy",
   "metadata": {
    "editable": true,
    "slideshow": {
     "slide_type": "subslide"
    },
    "tags": []
   },
   "source": [
    "<div><img src=\"https://docs.openmc.org/en/latest/_images/hex_lat.svg\" width=400px /> </div>"
   ]
  },
  {
   "cell_type": "markdown",
   "id": "a09b162c",
   "metadata": {
    "editable": true,
    "slideshow": {
     "slide_type": "subslide"
    },
    "tags": []
   },
   "source": [
    "By nature of the combined-axis system used in hexagonal lattices, a 2D lattice has only one pitch value. The additional pitch parameter represents a pitch in the Z dimension -- the same as it would in the case of a rectangular lattice."
   ]
  },
  {
   "cell_type": "code",
   "execution_count": 30,
   "id": "vocational-angola",
   "metadata": {
    "editable": true,
    "slideshow": {
     "slide_type": "fragment"
    },
    "tags": []
   },
   "outputs": [],
   "source": [
    "hex_lattice = openmc.HexLattice()\n",
    "hex_lattice.pitch = (2,)"
   ]
  },
  {
   "cell_type": "markdown",
   "id": "bf0f0105",
   "metadata": {
    "editable": true,
    "slideshow": {
     "slide_type": "subslide"
    },
    "tags": []
   },
   "source": [
    "The nesting of universe lists used to set the `universe` attribute is slightly different for hexagonal lattices. These lists should be in order of the **_outermost to innermost ring_** in the lattice. **_Unlike_** the rectangular lattices, the number of universes in each entry is pre-determined based on it's position in the highest level list."
   ]
  },
  {
   "cell_type": "code",
   "execution_count": 31,
   "id": "a449db66",
   "metadata": {
    "editable": true,
    "slideshow": {
     "slide_type": "fragment"
    },
    "tags": []
   },
   "outputs": [],
   "source": [
    "hex_lattice.universes = [[fuel_pin]*12, [fuel_pin]*6, [fuel_pin]]\n",
    "hex_lattice.center = (0.0, 0.0)"
   ]
  },
  {
   "cell_type": "markdown",
   "id": "9a40a09c",
   "metadata": {
    "editable": true,
    "slideshow": {
     "slide_type": ""
    },
    "tags": []
   },
   "source": [
    "**Note: Both rectungular and hexagonal lattices can be printed for a description of the lattice paramters and unvierse fills**"
   ]
  },
  {
   "cell_type": "code",
   "execution_count": 32,
   "id": "august-bosnia",
   "metadata": {
    "editable": true,
    "slideshow": {
     "slide_type": "subslide"
    },
    "tags": []
   },
   "outputs": [
    {
     "name": "stdout",
     "output_type": "stream",
     "text": [
      "HexLattice\n",
      "\tID             =\t14\n",
      "\tName           =\t\n",
      "\tOrientation    =\ty\n",
      "\t# Rings        =\t3\n",
      "\t# Axial        =\tNone\n",
      "\tCenter         =\t(0.0, 0.0)\n",
      "\tPitch          =\t(2,)\n",
      "\tOuter          =\tNone\n",
      "\tUniverses      \n",
      "  9\n",
      " 9 9\n",
      "9 9 9\n",
      " 9 9\n",
      "9 9 9\n",
      " 9 9\n",
      "9 9 9\n",
      " 9 9\n",
      "  9\n"
     ]
    }
   ],
   "source": [
    "print(hex_lattice)"
   ]
  },
  {
   "cell_type": "markdown",
   "id": "906c7430",
   "metadata": {
    "editable": true,
    "slideshow": {
     "slide_type": "subslide"
    },
    "tags": []
   },
   "source": [
    "Finally, let's plot this lattice to see what it looks like:"
   ]
  },
  {
   "cell_type": "code",
   "execution_count": 33,
   "id": "instant-juice",
   "metadata": {
    "editable": true,
    "slideshow": {
     "slide_type": "fragment"
    },
    "tags": []
   },
   "outputs": [
    {
     "data": {
      "image/png": "[encoded data removed]",
      "text/plain": [
       "<Figure size 516.129x519.481 with 1 Axes>"
      ]
     },
     "metadata": {},
     "output_type": "display_data"
    }
   ],
   "source": [
    "hex_prism = \\\n",
    "    openmc.model.HexagonalPrism(orientation='y',\n",
    "                                edge_length=4.5)\n",
    "hex_lattice_cell = openmc.Cell(region=-hex_prism, fill=hex_lattice)\n",
    "hex_universe = \\\n",
    "    openmc.Universe(cells=[hex_lattice_cell])\n",
    "hex_universe.plot(pixels=(400, 400))\n",
    "plt.show()"
   ]
  },
  {
   "cell_type": "markdown",
   "id": "452678b6",
   "metadata": {
    "editable": true,
    "slideshow": {
     "slide_type": "subslide"
    },
    "tags": []
   },
   "source": [
    "Changing the `orientation` attribute of the lattice gives us a little intuition on it's effects as well."
   ]
  },
  {
   "cell_type": "code",
   "execution_count": 34,
   "id": "77a00bdc",
   "metadata": {
    "editable": true,
    "slideshow": {
     "slide_type": "fragment"
    },
    "tags": []
   },
   "outputs": [
    {
     "data": {
      "image/png": "[encoded data removed]",
      "text/plain": [
       "<Figure size 516.129x519.481 with 1 Axes>"
      ]
     },
     "metadata": {},
     "output_type": "display_data"
    }
   ],
   "source": [
    "hex_lattice.orientation = 'x'\n",
    "hex_universe.plot(pixels=(400, 400))\n",
    "plt.show()"
   ]
  },
  {
   "cell_type": "markdown",
   "id": "e7526561-5e7a-4623-850e-a5c78f4fed3f",
   "metadata": {
    "editable": true,
    "slideshow": {
     "slide_type": "slide"
    },
    "tags": []
   },
   "source": [
    "# Cell Instances\n",
    "\n",
    "OpenMC tracks how many times a cell appears in a geometry. Each appearance is referred to as an instance. As we'll see later in the course, simulation results can be separated by cell instance.\n",
    "\n",
    "The `Geometry.determine_paths` method will traverse the geometry and determine the number of instances for each cell."
   ]
  },
  {
   "cell_type": "code",
   "execution_count": 35,
   "id": "d3ea676d-e1b3-4a5e-b136-bd211590e2e3",
   "metadata": {
    "editable": true,
    "slideshow": {
     "slide_type": "subslide"
    },
    "tags": []
   },
   "outputs": [
    {
     "name": "stdout",
     "output_type": "stream",
     "text": [
      "Number of cell instances 19\n"
     ]
    }
   ],
   "source": [
    "geometry = openmc.Geometry(hex_universe)\n",
    "geometry.determine_paths()\n",
    "print(f'Number of cell instances {fuel.num_instances}')"
   ]
  },
  {
   "cell_type": "markdown",
   "id": "3e7d069d-9e6f-4380-9abd-b09da1325392",
   "metadata": {
    "editable": true,
    "slideshow": {
     "slide_type": "subslide"
    },
    "tags": []
   },
   "source": [
    "The paths through the geometry can be displayed as well. The path below indicates that cell 9 is part of universe 9. For this particular instance of the cell, it lies in lattice cell (0, -2) and so on."
   ]
  },
  {
   "cell_type": "code",
   "execution_count": 36,
   "id": "b4e5c9bf-7876-44ed-a3ff-e926cf64eed0",
   "metadata": {
    "editable": true,
    "slideshow": {
     "slide_type": "fragment"
    },
    "tags": []
   },
   "outputs": [
    {
     "name": "stdout",
     "output_type": "stream",
     "text": [
      "Cell\n",
      "\tID             =\t9\n",
      "\tName           =\tfuel\n",
      "\tFill           =\tNone\n",
      "\tRegion         =\t-43\n",
      "\tRotation       =\tNone\n",
      "\tTranslation    =\tNone\n",
      "\tVolume         =\tNone\n",
      "\n",
      "Path of instance one: u15->c15->l14(1,-2)->u9->c9\n"
     ]
    }
   ],
   "source": [
    "print(fuel)\n",
    "print(f'Path of instance one: {fuel.paths[1]}')"
   ]
  },
  {
   "cell_type": "markdown",
   "id": "7760029e-1a85-47cc-a2b5-4215f05ad83e",
   "metadata": {
    "editable": true,
    "slideshow": {
     "slide_type": "slide"
    },
    "tags": []
   },
   "source": [
    "# Distributed Materials\n",
    "\n",
    "Each instance of a cell can use a different material by assigning the `Cell.fill` attribute to an iterable of `Material`'s equal to the number of cell instances."
   ]
  },
  {
   "cell_type": "code",
   "execution_count": 39,
   "id": "7964184e-1b0f-483d-8f34-71e91539f475",
   "metadata": {
    "editable": true,
    "slideshow": {
     "slide_type": "subslide"
    },
    "tags": []
   },
   "outputs": [],
   "source": [
    "moderator.fill = water\n",
    "\n",
    "zirc = openmc.Material()\n",
    "zirc.set_density('g/cc', 6.55)\n",
    "zirc.add_element('Zr', 1.0)\n",
    "clad.fill = zirc\n",
    "\n",
    "uo2 = openmc.Material()\n",
    "uo2.set_density('g/cc', 10.7)\n",
    "uo2.add_element('U', 1.0, enrichment=5)\n",
    "uo2.add_element('O', 2.0)\n",
    "fuel.fill = [uo2.clone() for _ in range(fuel.num_instances)]"
   ]
  },
  {
   "cell_type": "code",
   "execution_count": 41,
   "id": "8e6fc3ef-9d61-4057-87d0-074cd2033c24",
   "metadata": {
    "editable": true,
    "slideshow": {
     "slide_type": "subslide"
    },
    "tags": []
   },
   "outputs": [
    {
     "data": {
      "text/plain": [
       "<Axes: xlabel='x [cm]', ylabel='y [cm]'>"
      ]
     },
     "execution_count": 41,
     "metadata": {},
     "output_type": "execute_result"
    },
    {
     "data": {
      "image/png": "[encoded data removed]",
      "text/plain": [
       "<Figure size 516.129x519.481 with 1 Axes>"
      ]
     },
     "metadata": {},
     "output_type": "display_data"
    }
   ],
   "source": [
    "geometry.plot(color_by='material', pixels=(400, 400))"
   ]
  }
 ],
 "metadata": {
  "kernelspec": {
   "display_name": "Python 3 (ipykernel)",
   "language": "python",
   "name": "python3"
  },
  "language_info": {
   "codemirror_mode": {
    "name": "ipython",
    "version": 3
   },
   "file_extension": ".py",
   "mimetype": "text/x-python",
   "name": "python",
   "nbconvert_exporter": "python",
   "pygments_lexer": "ipython3",
   "version": "3.12.7"
  }
 },
 "nbformat": 4,
 "nbformat_minor": 5
}
