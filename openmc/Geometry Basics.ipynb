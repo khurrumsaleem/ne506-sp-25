{
 "cells": [
  {
   "cell_type": "code",
   "execution_count": 1,
   "id": "british-lighter",
   "metadata": {
    "editable": true,
    "slideshow": {
     "slide_type": "skip"
    },
    "tags": []
   },
   "outputs": [],
   "source": [
    "from matplotlib import pyplot as plt\n",
    "import openmc"
   ]
  },
  {
   "cell_type": "markdown",
   "id": "blessed-reflection",
   "metadata": {
    "editable": true,
    "slideshow": {
     "slide_type": "slide"
    },
    "tags": []
   },
   "source": [
    "# OpenMC Geometry: The Basics\n",
    "\n",
    "Learning goals:\n",
    "\n",
    "  - Understand how to define basic surfaces and composite surfaces\n",
    "  - Understand the meaning of surface halfspaces and surface senses\n",
    "  - Create cells from combinations of surfaces"
   ]
  },
  {
   "cell_type": "markdown",
   "id": "meaning-partnership",
   "metadata": {
    "editable": true,
    "slideshow": {
     "slide_type": "slide"
    },
    "tags": []
   },
   "source": [
    "# OpenMC Geometry\n",
    "\n",
    " - All spaces of a model up to a boundary condition must be defined\n",
    " - Geometries are composted of:\n",
    "   - `Surface`'s (used to create regions for cells)\n",
    "   - `Cell`'s (associated with a region)\n",
    "   - `Universe`'s (collections of cells)\n",
    " - All of these constructs have corresponding Python objects in the `openmc` Python module."
   ]
  },
  {
   "cell_type": "markdown",
   "id": "handled-hearing",
   "metadata": {
    "editable": true,
    "slideshow": {
     "slide_type": "slide"
    },
    "tags": []
   },
   "source": [
    "# Surfaces\n",
    "\n",
    "  - A full list of the surface types supported in OpenMC can be found [here](https://docs.openmc.org/en/stable/usersguide/geometry.html#id2)\n",
    "  "
   ]
  },
  {
   "cell_type": "code",
   "execution_count": 2,
   "id": "greenhouse-ownership",
   "metadata": {
    "editable": true,
    "slideshow": {
     "slide_type": "fragment"
    },
    "tags": []
   },
   "outputs": [
    {
     "name": "stdout",
     "output_type": "stream",
     "text": [
      "Surface\n",
      "\tID                 =\t1\n",
      "\tName               =\t\n",
      "\tType               =\tz-cylinder\n",
      "\tBoundary           =\ttransmission\n",
      "\tCoefficients       \n",
      "x0                  =\t0.0\n",
      "y0                  =\t0.0\n",
      "r                   =\t5\n",
      "\n",
      "Surface\n",
      "\tID                 =\t2\n",
      "\tName               =\t\n",
      "\tType               =\tx-plane\n",
      "\tBoundary           =\ttransmission\n",
      "\tCoefficients       \n",
      "x0                  =\t0\n",
      "\n",
      "Surface\n",
      "\tID                 =\t3\n",
      "\tName               =\t\n",
      "\tType               =\ty-plane\n",
      "\tBoundary           =\ttransmission\n",
      "\tCoefficients       \n",
      "y0                  =\t0\n",
      "\n"
     ]
    }
   ],
   "source": [
    "cylinder_surface = openmc.ZCylinder(r=5)\n",
    "print(cylinder_surface)\n",
    "x_plane = openmc.XPlane(x0=0)\n",
    "print(x_plane)\n",
    "y_plane = openmc.YPlane(y0=0)\n",
    "print(y_plane)"
   ]
  },
  {
   "cell_type": "markdown",
   "id": "optical-piece",
   "metadata": {},
   "source": [
    "  - `Surface`'s are automatically assigned an ID upon creation.\n",
    "  - `Surface`'s can be assigned name for human-readable recognition.\n",
    "  - Boundary conditions are assigned to surfaces to define the problem boundary.\n",
    "      - Transmission (default)\n",
    "      - Vacuum\n",
    "      - Reflective\n",
    "      - Periodic\n",
    "      - White"
   ]
  },
  {
   "cell_type": "code",
   "execution_count": 3,
   "id": "surprising-activation",
   "metadata": {
    "editable": true,
    "slideshow": {
     "slide_type": "slide"
    },
    "tags": []
   },
   "outputs": [
    {
     "name": "stdout",
     "output_type": "stream",
     "text": [
      "Help on class Surface in module openmc.surface:\n",
      "\n",
      "class Surface(openmc.mixin.IDManagerMixin, abc.ABC)\n",
      " |  Surface(surface_id=None, boundary_type='transmission', albedo=1.0, name='')\n",
      " |\n",
      " |  An implicit surface with an associated boundary condition.\n",
      " |\n",
      " |  An implicit surface is defined as the set of zeros of a function of the\n",
      " |  three Cartesian coordinates. Surfaces in OpenMC are limited to a set of\n",
      " |  algebraic surfaces, i.e., surfaces that are polynomial in x, y, and z.\n",
      " |\n",
      " |  Parameters\n",
      " |  ----------\n",
      " |  surface_id : int, optional\n",
      " |      Unique identifier for the surface. If not specified, an identifier will\n",
      " |      automatically be assigned.\n",
      " |  boundary_type : {'transmission', 'vacuum', 'reflective', 'periodic', 'white'}, optional\n",
      " |      Boundary condition that defines the behavior for particles hitting the\n",
      " |      surface. Defaults to transmissive boundary condition where particles\n",
      " |      freely pass through the surface. Note that periodic boundary conditions\n",
      " |      can only be applied to x-, y-, and z-planes, and only axis-aligned\n",
      " |      periodicity is supported.\n",
      " |  albedo : float, optional\n",
      " |      Albedo of the surfaces as a ratio of particle weight after interaction\n",
      " |      with the surface to the initial weight. Values must be positive. Only\n",
      " |      applicable if the boundary type is 'reflective', 'periodic', or 'white'.\n",
      " |  name : str, optional\n",
      " |      Name of the surface. If not specified, the name will be the empty\n",
      " |      string.\n",
      " |\n",
      " |  Attributes\n",
      " |  ----------\n",
      " |  boundary_type : {'transmission', 'vacuum', 'reflective', 'periodic', 'white'}\n",
      " |      Boundary condition that defines the behavior for particles hitting the\n",
      " |      surface.\n",
      " |  albedo : float\n",
      " |      Boundary albedo as a positive multiplier of particle weight\n",
      " |  coefficients : dict\n",
      " |      Dictionary of surface coefficients\n",
      " |  id : int\n",
      " |      Unique identifier for the surface\n",
      " |  name : str\n",
      " |      Name of the surface\n",
      " |  type : str\n",
      " |      Type of the surface\n",
      " |\n",
      " |  Method resolution order:\n",
      " |      Surface\n",
      " |      openmc.mixin.IDManagerMixin\n",
      " |      abc.ABC\n",
      " |      builtins.object\n",
      " |\n",
      " |  Methods defined here:\n",
      " |\n",
      " |  __init__(self, surface_id=None, boundary_type='transmission', albedo=1.0, name='')\n",
      " |      Initialize self.  See help(type(self)) for accurate signature.\n",
      " |\n",
      " |  __neg__(self)\n",
      " |\n",
      " |  __pos__(self)\n",
      " |\n",
      " |  __repr__(self)\n",
      " |      Return repr(self).\n",
      " |\n",
      " |  bounding_box(self, side)\n",
      " |      Determine an axis-aligned bounding box.\n",
      " |\n",
      " |      An axis-aligned bounding box for surface half-spaces is represented by\n",
      " |      its lower-left and upper-right coordinates. If the half-space is\n",
      " |      unbounded in a particular direction, numpy.inf is used to represent\n",
      " |      infinity.\n",
      " |\n",
      " |      Parameters\n",
      " |      ----------\n",
      " |      side : {'+', '-'}\n",
      " |          Indicates the negative or positive half-space\n",
      " |\n",
      " |      Returns\n",
      " |      -------\n",
      " |      numpy.ndarray\n",
      " |          Lower-left coordinates of the axis-aligned bounding box for the\n",
      " |          desired half-space\n",
      " |      numpy.ndarray\n",
      " |          Upper-right coordinates of the axis-aligned bounding box for the\n",
      " |          desired half-space\n",
      " |\n",
      " |  clone(self, memo=None)\n",
      " |      Create a copy of this surface with a new unique ID.\n",
      " |\n",
      " |      Parameters\n",
      " |      ----------\n",
      " |      memo : dict or None\n",
      " |          A nested dictionary of previously cloned objects. This parameter\n",
      " |          is used internally and should not be specified by the user.\n",
      " |\n",
      " |      Returns\n",
      " |      -------\n",
      " |      clone : openmc.Surface\n",
      " |          The clone of this surface\n",
      " |\n",
      " |  evaluate(self, point)\n",
      " |      Evaluate the surface equation at a given point.\n",
      " |\n",
      " |      Parameters\n",
      " |      ----------\n",
      " |      point : 3-tuple of float\n",
      " |          The Cartesian coordinates, :math:`(x',y',z')`, at which the surface\n",
      " |          equation should be evaluated.\n",
      " |\n",
      " |      Returns\n",
      " |      -------\n",
      " |      float\n",
      " |          Evaluation of the surface polynomial at point :math:`(x',y',z')`\n",
      " |\n",
      " |  is_equal(self, other)\n",
      " |      Determine if this Surface is equivalent to another\n",
      " |\n",
      " |      Parameters\n",
      " |      ----------\n",
      " |      other : instance of openmc.Surface\n",
      " |          Instance of openmc.Surface that should be compared to the current\n",
      " |          surface\n",
      " |\n",
      " |  normalize(self, coeffs=None)\n",
      " |      Normalize coefficients by first nonzero value\n",
      " |\n",
      " |      .. versionadded:: 0.12\n",
      " |\n",
      " |      Parameters\n",
      " |      ----------\n",
      " |      coeffs : tuple, optional\n",
      " |          Tuple of surface coefficients to normalize. Defaults to None. If no\n",
      " |          coefficients are supplied then the coefficients will be taken from\n",
      " |          the current Surface.\n",
      " |\n",
      " |      Returns\n",
      " |      -------\n",
      " |      tuple of normalized coefficients\n",
      " |\n",
      " |  rotate(self, rotation, pivot=(0.0, 0.0, 0.0), order='xyz', inplace=False)\n",
      " |      Rotate surface by angles provided or by applying matrix directly.\n",
      " |\n",
      " |      .. versionadded:: 0.12\n",
      " |\n",
      " |      Parameters\n",
      " |      ----------\n",
      " |      rotation : 3-tuple of float, or 3x3 iterable\n",
      " |          A 3-tuple of angles :math:`(\\phi, \\theta, \\psi)` in degrees where\n",
      " |          the first element is the rotation about the x-axis in the fixed\n",
      " |          laboratory frame, the second element is the rotation about the\n",
      " |          y-axis in the fixed laboratory frame, and the third element is the\n",
      " |          rotation about the z-axis in the fixed laboratory frame. The\n",
      " |          rotations are active rotations. Additionally a 3x3 rotation matrix\n",
      " |          can be specified directly either as a nested iterable or array.\n",
      " |      pivot : iterable of float, optional\n",
      " |          (x, y, z) coordinates for the point to rotate about. Defaults to\n",
      " |          (0., 0., 0.)\n",
      " |      order : str, optional\n",
      " |          A string of 'x', 'y', and 'z' in some order specifying which\n",
      " |          rotation to perform first, second, and third. Defaults to 'xyz'\n",
      " |          which means, the rotation by angle :math:`\\phi` about x will be\n",
      " |          applied first, followed by :math:`\\theta` about y and then\n",
      " |          :math:`\\psi` about z. This corresponds to an x-y-z extrinsic\n",
      " |          rotation as well as a z-y'-x'' intrinsic rotation using Tait-Bryan\n",
      " |          angles :math:`(\\phi, \\theta, \\psi)`.\n",
      " |      inplace : bool\n",
      " |          Whether or not to return a new instance of Surface or to modify the\n",
      " |          coefficients of this Surface in place. Defaults to False.\n",
      " |\n",
      " |      Returns\n",
      " |      -------\n",
      " |      openmc.Surface\n",
      " |          Rotated surface\n",
      " |\n",
      " |  to_xml_element(self)\n",
      " |      Return XML representation of the surface\n",
      " |\n",
      " |      Returns\n",
      " |      -------\n",
      " |      element : lxml.etree._Element\n",
      " |          XML element containing source data\n",
      " |\n",
      " |  translate(self, vector, inplace=False)\n",
      " |      Translate surface in given direction\n",
      " |\n",
      " |      Parameters\n",
      " |      ----------\n",
      " |      vector : iterable of float\n",
      " |          Direction in which surface should be translated\n",
      " |      inplace : bool\n",
      " |          Whether or not to return a new instance of this Surface or to\n",
      " |          modify the coefficients of this Surface.\n",
      " |\n",
      " |      Returns\n",
      " |      -------\n",
      " |      instance of openmc.Surface\n",
      " |          Translated surface\n",
      " |\n",
      " |  ----------------------------------------------------------------------\n",
      " |  Static methods defined here:\n",
      " |\n",
      " |  from_hdf5(group)\n",
      " |      Create surface from HDF5 group\n",
      " |\n",
      " |      Parameters\n",
      " |      ----------\n",
      " |      group : h5py.Group\n",
      " |          Group in HDF5 file\n",
      " |\n",
      " |      Returns\n",
      " |      -------\n",
      " |      openmc.Surface\n",
      " |          Instance of surface subclass\n",
      " |\n",
      " |  from_xml_element(elem)\n",
      " |      Generate surface from an XML element\n",
      " |\n",
      " |      Parameters\n",
      " |      ----------\n",
      " |      elem : lxml.etree._Element\n",
      " |          XML element\n",
      " |\n",
      " |      Returns\n",
      " |      -------\n",
      " |      openmc.Surface\n",
      " |          Instance of a surface subclass\n",
      " |\n",
      " |  ----------------------------------------------------------------------\n",
      " |  Readonly properties defined here:\n",
      " |\n",
      " |  coefficients\n",
      " |\n",
      " |  type\n",
      " |\n",
      " |  ----------------------------------------------------------------------\n",
      " |  Data descriptors defined here:\n",
      " |\n",
      " |  albedo\n",
      " |\n",
      " |  boundary_type\n",
      " |\n",
      " |  name\n",
      " |\n",
      " |  ----------------------------------------------------------------------\n",
      " |  Data and other attributes defined here:\n",
      " |\n",
      " |  __abstractmethods__ = frozenset({'_get_base_coeffs', 'evaluate', 'rota...\n",
      " |\n",
      " |  next_id = 3\n",
      " |\n",
      " |  used_ids = {1, 2, 3}\n",
      " |\n",
      " |  ----------------------------------------------------------------------\n",
      " |  Class methods inherited from openmc.mixin.IDManagerMixin:\n",
      " |\n",
      " |  reset_ids()\n",
      " |      Reset counters\n",
      " |\n",
      " |  ----------------------------------------------------------------------\n",
      " |  Data descriptors inherited from openmc.mixin.IDManagerMixin:\n",
      " |\n",
      " |  __dict__\n",
      " |      dictionary for instance variables\n",
      " |\n",
      " |  __weakref__\n",
      " |      list of weak references to the object\n",
      " |\n",
      " |  id\n",
      "\n"
     ]
    }
   ],
   "source": [
    "help(openmc.Surface)"
   ]
  },
  {
   "cell_type": "markdown",
   "id": "coated-publicity",
   "metadata": {
    "editable": true,
    "slideshow": {
     "slide_type": "slide"
    },
    "tags": []
   },
   "source": [
    "# Regions\n",
    "\n",
    "  - Regions are defined by the \"halfspaces\" or \"senses\" of surfaces and are defined using the `-` or `+` operators on an OpenMC surface object.\n",
    "  - `+`: For an open surface (e.g. a plane), all space on the positive side of the surface. For closed surfaces (e.g. a cylinder), the exterior of the surface. \n",
    "  - `-`: For a closed surface, all space on the positive side of the surface. For closed surfaces, the interior of the surface. \n",
    "  \n",
    "  - These halfspaces can be combined together using the following Boolean operators:\n",
    "      - Intersection: `&` (logical and)\n",
    "      - Union: `|` (logical or)\n",
    "      - Complement: `~` (inverse)"
   ]
  },
  {
   "cell_type": "code",
   "execution_count": 4,
   "id": "lonely-tribute",
   "metadata": {
    "editable": true,
    "slideshow": {
     "slide_type": "fragment"
    },
    "tags": []
   },
   "outputs": [
    {
     "name": "stdout",
     "output_type": "stream",
     "text": [
      "-1\n",
      "(-1 2)\n"
     ]
    }
   ],
   "source": [
    "halfspace = -cylinder_surface\n",
    "print(halfspace)\n",
    "\n",
    "region = -cylinder_surface & +x_plane\n",
    "print(region)"
   ]
  },
  {
   "cell_type": "markdown",
   "id": "hearing-hierarchy",
   "metadata": {
    "editable": true,
    "slideshow": {
     "slide_type": "slide"
    },
    "tags": []
   },
   "source": [
    "The bounding box of simple regions can be determined with the `Region.bounding_box` property."
   ]
  },
  {
   "cell_type": "code",
   "execution_count": 5,
   "id": "heavy-major",
   "metadata": {
    "editable": true,
    "slideshow": {
     "slide_type": "fragment"
    },
    "tags": []
   },
   "outputs": [
    {
     "data": {
      "text/plain": [
       "BoundingBox(lower_left=(0.0, -5.0, -inf), upper_right=(5.0, 5.0, inf))"
      ]
     },
     "execution_count": 5,
     "metadata": {},
     "output_type": "execute_result"
    }
   ],
   "source": [
    "region.bounding_box"
   ]
  },
  {
   "cell_type": "markdown",
   "id": "dff26b8e-f788-4445-8a81-e0a7926506a6",
   "metadata": {
    "editable": true,
    "slideshow": {
     "slide_type": "slide"
    },
    "tags": []
   },
   "source": [
    "Regions can be plotted directly for immediate feedback on their definitions"
   ]
  },
  {
   "cell_type": "code",
   "execution_count": 6,
   "id": "82dd9906-711a-4173-9c54-ffc81d68cb51",
   "metadata": {
    "editable": true,
    "slideshow": {
     "slide_type": "fragment"
    },
    "tags": []
   },
   "outputs": [
    {
     "data": {
      "text/plain": [
       "<Axes: xlabel='x [cm]', ylabel='y [cm]'>"
      ]
     },
     "execution_count": 6,
     "metadata": {},
     "output_type": "execute_result"
    },
    {
     "data": {
      "image/png": "[encoded data removed]",
      "text/plain": [
       "<Figure size 181.935x366.234 with 1 Axes>"
      ]
     },
     "metadata": {},
     "output_type": "display_data"
    }
   ],
   "source": [
    "region.plot()"
   ]
  },
  {
   "cell_type": "markdown",
   "id": "41504527-638f-476e-8bd6-10e9120cf6d3",
   "metadata": {
    "editable": true,
    "slideshow": {
     "slide_type": "slide"
    },
    "tags": []
   },
   "source": [
    "Plots are generally more useful, but point containment checks can be performed for regions as well."
   ]
  },
  {
   "cell_type": "code",
   "execution_count": 7,
   "id": "af3f3447-5054-41a7-ac8e-1a3e135af58c",
   "metadata": {
    "editable": true,
    "slideshow": {
     "slide_type": "fragment"
    },
    "tags": []
   },
   "outputs": [
    {
     "data": {
      "text/plain": [
       "True"
      ]
     },
     "execution_count": 7,
     "metadata": {},
     "output_type": "execute_result"
    }
   ],
   "source": [
    "(1, 0, 0) in region"
   ]
  },
  {
   "cell_type": "markdown",
   "id": "settled-johnston",
   "metadata": {
    "editable": true,
    "slideshow": {
     "slide_type": "slide"
    },
    "tags": []
   },
   "source": [
    "# Cells\n",
    "\n",
    "\n",
    "In OpenMC, cells tie a material definition and region of space together. Materials will be discussed in more detail later on. For now a simple material will be defined.\n",
    "\n",
    "Similar to surfaces, `Cell`'s are automatically assigned an ID if one is not provided and can be assigned a name."
   ]
  },
  {
   "cell_type": "code",
   "execution_count": 19,
   "id": "e3d888e8-5fd6-4e81-ad66-0a52bf592f28",
   "metadata": {
    "editable": true,
    "slideshow": {
     "slide_type": "fragment"
    },
    "tags": []
   },
   "outputs": [
    {
     "name": "stdout",
     "output_type": "stream",
     "text": [
      "Cell\n",
      "\tID             =\t2\n",
      "\tName           =\t\n",
      "\tFill           =\tMaterial 2\n",
      "\tRegion         =\t(-1 2)\n",
      "\tRotation       =\tNone\n",
      "\tTemperature    =\tNone\n",
      "\tTranslation    =\tNone\n",
      "\tVolume         =\tNone\n",
      "\n"
     ]
    }
   ],
   "source": [
    "water = openmc.Material()\n",
    "water.set_density('g/cc', 1.0)\n",
    "water.add_nuclide('H1', 2.0)\n",
    "water.add_nuclide('O16', 1.0)\n",
    "\n",
    "water_cell = openmc.Cell(fill=water, region=region)\n",
    "print(water_cell)"
   ]
  },
  {
   "cell_type": "markdown",
   "id": "breathing-cursor",
   "metadata": {
    "editable": true,
    "slideshow": {
     "slide_type": "slide"
    },
    "tags": []
   },
   "source": [
    "# Universes\n",
    "\n",
    "\n",
    "Universes are, simply put, a collection of cells. This collection of cells can be used instead of a material to fill CSG cells, allowing the geometry unit defined by a universe to appear multiple times in the geometry without repeating the universe's cell definitions.\n",
    "\n",
    "In the simplest case, a model will contain only one universe.\n",
    "\n",
    "The top-level universe in this nesting structure (or hierarchy) is referred to as the \"root universe\".\n"
   ]
  },
  {
   "cell_type": "code",
   "execution_count": 8,
   "id": "sound-simple",
   "metadata": {
    "editable": true,
    "slideshow": {
     "slide_type": "fragment"
    },
    "tags": []
   },
   "outputs": [],
   "source": [
    "universe = openmc.Universe()\n",
    "universe.add_cell(water_cell)"
   ]
  },
  {
   "cell_type": "markdown",
   "id": "offshore-sauce",
   "metadata": {
    "editable": true,
    "slideshow": {
     "slide_type": "slide"
    },
    "tags": []
   },
   "source": [
    "## Region Examples\n",
    "\n",
    "The content of a universe can be plotted using the `Universe.plot` method in our notebooks.\n"
   ]
  },
  {
   "cell_type": "code",
   "execution_count": 9,
   "id": "hungarian-representation",
   "metadata": {
    "editable": true,
    "slideshow": {
     "slide_type": "fragment"
    },
    "tags": []
   },
   "outputs": [
    {
     "data": {
      "image/png": "[encoded data removed]",
      "text/plain": [
       "<Figure size 258.065x259.74 with 1 Axes>"
      ]
     },
     "metadata": {},
     "output_type": "display_data"
    }
   ],
   "source": [
    "universe.plot(origin=(0, 0, 0), width=(10, 10))\n",
    "plt.show()"
   ]
  },
  {
   "cell_type": "markdown",
   "id": "charming-terrain",
   "metadata": {
    "editable": true,
    "slideshow": {
     "slide_type": "slide"
    },
    "tags": []
   },
   "source": [
    "A `Cell`'s region can be updated by setting the `Cell.region` directly like so:"
   ]
  },
  {
   "cell_type": "code",
   "execution_count": 10,
   "id": "floral-disabled",
   "metadata": {
    "editable": true,
    "slideshow": {
     "slide_type": "fragment"
    },
    "tags": []
   },
   "outputs": [
    {
     "data": {
      "image/png": "[encoded data removed]",
      "text/plain": [
       "<Figure size 181.935x366.234 with 1 Axes>"
      ]
     },
     "metadata": {},
     "output_type": "display_data"
    }
   ],
   "source": [
    "water_cell.region = -cylinder_surface & -x_plane\n",
    "universe.plot()\n",
    "plt.show()"
   ]
  },
  {
   "cell_type": "markdown",
   "id": "ready-invalid",
   "metadata": {
    "editable": true,
    "slideshow": {
     "slide_type": "slide"
    },
    "tags": []
   },
   "source": [
    "Region operators can be chained like so"
   ]
  },
  {
   "cell_type": "code",
   "execution_count": 11,
   "id": "reliable-guyana",
   "metadata": {
    "editable": true,
    "slideshow": {
     "slide_type": "fragment"
    },
    "tags": []
   },
   "outputs": [
    {
     "data": {
      "image/png": "[encoded data removed]",
      "text/plain": [
       "<Figure size 258.065x259.74 with 1 Axes>"
      ]
     },
     "metadata": {},
     "output_type": "display_data"
    }
   ],
   "source": [
    "water_cell.region = -cylinder_surface & -x_plane & -y_plane\n",
    "universe.plot()\n",
    "plt.show()"
   ]
  },
  {
   "cell_type": "markdown",
   "id": "liquid-brooks",
   "metadata": {
    "editable": true,
    "slideshow": {
     "slide_type": "slide"
    },
    "tags": []
   },
   "source": [
    "Finally, parenthesis can be used in expressions. Here, they are used to define a region that is the upper-most and lower-most quadrants of the X-Y plane using the union operator"
   ]
  },
  {
   "cell_type": "code",
   "execution_count": 12,
   "id": "whole-adjustment",
   "metadata": {
    "editable": true,
    "slideshow": {
     "slide_type": "fragment"
    },
    "tags": []
   },
   "outputs": [
    {
     "data": {
      "image/png": "[encoded data removed]",
      "text/plain": [
       "<Figure size 258.065x259.74 with 1 Axes>"
      ]
     },
     "metadata": {},
     "output_type": "display_data"
    }
   ],
   "source": [
    "water_cell.region = (-x_plane & -y_plane) | (+x_plane & +y_plane)\n",
    "\n",
    "universe.plot()\n",
    "plt.show()"
   ]
  },
  {
   "cell_type": "markdown",
   "id": "conceptual-endorsement",
   "metadata": {
    "editable": true,
    "slideshow": {
     "slide_type": "slide"
    },
    "tags": []
   },
   "source": [
    "And with additional parenthesis, we can bound these quadrants using the cylinder surface"
   ]
  },
  {
   "cell_type": "code",
   "execution_count": 13,
   "id": "loaded-employer",
   "metadata": {
    "editable": true,
    "slideshow": {
     "slide_type": "fragment"
    },
    "tags": []
   },
   "outputs": [
    {
     "data": {
      "image/png": "[encoded data removed]",
      "text/plain": [
       "<Figure size 258.065x259.74 with 1 Axes>"
      ]
     },
     "metadata": {},
     "output_type": "display_data"
    }
   ],
   "source": [
    "water_cell.region = -cylinder_surface & ((-x_plane & -y_plane) | (+x_plane & +y_plane))\n",
    "universe.plot()\n",
    "plt.show()"
   ]
  },
  {
   "cell_type": "code",
   "execution_count": 14,
   "id": "desirable-consortium",
   "metadata": {
    "editable": true,
    "slideshow": {
     "slide_type": "fragment"
    },
    "tags": []
   },
   "outputs": [
    {
     "data": {
      "image/png": "[encoded data removed]",
      "text/plain": [
       "<Figure size 258.065x259.74 with 1 Axes>"
      ]
     },
     "metadata": {},
     "output_type": "display_data"
    }
   ],
   "source": [
    "water_cell.region = ~water_cell.region\n",
    "universe.plot()\n",
    "plt.show()"
   ]
  },
  {
   "cell_type": "markdown",
   "id": "powered-brain",
   "metadata": {
    "editable": true,
    "slideshow": {
     "slide_type": "slide"
    },
    "tags": []
   },
   "source": [
    "# Composite Surfaces\n",
    "\n",
    "Similar in nature to the macrobody constructs in MCNP, OpenMC contains \"(composite surfaces)[https://docs.openmc.org/en/stable/pythonapi/model.html?highlight=model#composite-surfaces]\" that represent commonly used, intuitive shapes that are pre-defined combinations of basic surface types. \n",
    "\n",
    "The `-` and `+` operators (sense) apply the same to these surface as to other closed surface types in OpenMC\n",
    "\n",
    "  - CruciformPrism\n",
    "  - CylinderSector\n",
    "  - HexagonalPrism\n",
    "  - IsogonalOctagon\n",
    "  - Polygon\n",
    "  - RectangularParallelepiped\n",
    "  - RectangularPrism\n",
    "  - RightCircularCylinder\n",
    "  - XConeOneSided\n",
    "  - YConeOneSided\n",
    "  - ZConeOneSided"
   ]
  },
  {
   "cell_type": "code",
   "execution_count": 15,
   "id": "secure-barrel",
   "metadata": {
    "editable": true,
    "slideshow": {
     "slide_type": "fragment"
    },
    "tags": []
   },
   "outputs": [
    {
     "data": {
      "image/png": "[encoded data removed]",
      "text/plain": [
       "<Figure size 258.065x259.74 with 1 Axes>"
      ]
     },
     "metadata": {},
     "output_type": "display_data"
    }
   ],
   "source": [
    "hex_prism = openmc.model.HexagonalPrism(2.0)\n",
    "water_cell.region = -hex_prism\n",
    "universe.plot(origin=(0, 0, 0), width=(6, 6))\n",
    "plt.show()"
   ]
  },
  {
   "cell_type": "code",
   "execution_count": 16,
   "id": "beautiful-brand",
   "metadata": {
    "editable": true,
    "slideshow": {
     "slide_type": "fragment"
    },
    "tags": []
   },
   "outputs": [
    {
     "data": {
      "image/png": "[encoded data removed]",
      "text/plain": [
       "<Figure size 258.065x259.74 with 1 Axes>"
      ]
     },
     "metadata": {},
     "output_type": "display_data"
    }
   ],
   "source": [
    "hex_prism = openmc.model.HexagonalPrism(2.0)\n",
    "water_cell.region = +hex_prism\n",
    "universe.plot(origin=(0, 0, 0), width=(6, 6))\n",
    "plt.show()"
   ]
  },
  {
   "cell_type": "markdown",
   "id": "corporate-tender",
   "metadata": {
    "editable": true,
    "slideshow": {
     "slide_type": "slide"
    },
    "tags": []
   },
   "source": [
    "Individual surfaces that make up a composite surface can be accessed on the resulting object and used in other cell definitions."
   ]
  },
  {
   "cell_type": "code",
   "execution_count": 17,
   "id": "little-jonathan",
   "metadata": {
    "editable": true,
    "slideshow": {
     "slide_type": "fragment"
    },
    "tags": []
   },
   "outputs": [
    {
     "name": "stdout",
     "output_type": "stream",
     "text": [
      "Surface\n",
      "\tID                 =\t10\n",
      "\tName               =\t\n",
      "\tType               =\tx-plane\n",
      "\tBoundary           =\ttransmission\n",
      "\tCoefficients       \n",
      "x0                  =\t1.7320508075688772\n",
      "\n"
     ]
    }
   ],
   "source": [
    "print(hex_prism.plane_max)"
   ]
  },
  {
   "cell_type": "markdown",
   "id": "eff7a9a6-057d-4be1-a4db-d764437cb572",
   "metadata": {
    "editable": true,
    "slideshow": {
     "slide_type": "slide"
    },
    "tags": []
   },
   "source": [
    "# Defining and Exporting a Geometry Object\n",
    "\n",
    "A geometry object can be defined by providing a root universe. This object can write an XML `geometry.xml` to be used in an OpenMC simulation."
   ]
  },
  {
   "cell_type": "code",
   "execution_count": 18,
   "id": "c777e5e2-f7f4-4a11-9947-9d3c3b20b7c1",
   "metadata": {
    "editable": true,
    "slideshow": {
     "slide_type": "fragment"
    },
    "tags": []
   },
   "outputs": [
    {
     "name": "stdout",
     "output_type": "stream",
     "text": [
      "<?xml version='1.0' encoding='UTF-8'?>\n",
      "<geometry>\n",
      "  <cell id=\"1\" material=\"1\" region=\"-1\" universe=\"1\"/>\n",
      "  <surface coeffs=\"0.0 0.0 5\" id=\"1\" type=\"z-cylinder\"/>\n",
      "</geometry>\n"
     ]
    }
   ],
   "source": [
    "water_cell.region = -cylinder_surface\n",
    "geometry = openmc.Geometry(root=universe)\n",
    "geometry.export_to_xml()\n",
    "!cat geometry.xml"
   ]
  }
 ],
 "metadata": {
  "kernelspec": {
   "display_name": "Python 3 (ipykernel)",
   "language": "python",
   "name": "python3"
  },
  "language_info": {
   "codemirror_mode": {
    "name": "ipython",
    "version": 3
   },
   "file_extension": ".py",
   "mimetype": "text/x-python",
   "name": "python",
   "nbconvert_exporter": "python",
   "pygments_lexer": "ipython3",
   "version": "3.12.7"
  }
 },
 "nbformat": 4,
 "nbformat_minor": 5
}
