{
 "cells": [
  {
   "cell_type": "markdown",
   "id": "ba100c88-d2c8-41d3-8abf-1dd5fdfbd8a4",
   "metadata": {},
   "source": [
    "# Homework 2\n",
    "\n",
    "In this homework assignment we will perform a simple Monte Carlo geometry tracking task in three dimensions.  Please use Jupyter notebooks for the following exercises.\n",
    "\n",
    "## General geometry:\n",
    "Your code should work for a sphere with any center, (xc,yc,zc), and radius, R (you can assume that the sphere always encompasses the source).\n",
    "\n",
    "Divide the sphere into two hemispheres at the plane z = zc.  Assume the lower hemisphere (z < zc) is filled with a material whose linear attenuation coefficient, $\\mu_{-z}$, is 0.1 $\\text{cm}^{-1}$.  The upper hemisphere (z > zc) is filled with a material whose linear attenuation coefficient, $\\mu_{+z}$, is 0.8 $\\text{cm}^{-1}$.  For testing purposes, use a sphere with ($x_c$,$y_c$,$z_c$, R) = (0,0,0,15).\n",
    "\n",
    "\n",
    "## Source direction: \n",
    "\n",
    "Write a function that will return the direction vector (u,v,w) of the particle at the source.  The function should sample the particle's polar emission angle, $\\phi$, relative to the z-axis assuming the distribution below.  Assume the azimuthal angle, $\\theta$ , is uniformly distributed between 0 and 2$\\pi$.\n",
    "\n",
    "![](source_dist.png)\n",
    "\n",
    "## Source energy: \n",
    "\n",
    "Write a function that will return the energy of the particle by sampling from a normal distribution with a mean energy of 2.5 MeV and a standard deviation of 0.5 MeV.  \n",
    "\n",
    "(Note: This technically allows for negative energies [about once in every 4 million]. Reject when a negative energy is sampled.)\n",
    "\n",
    "## Distance to sphere:\n",
    "Write a function that will return the distance from a point ($x$,$y$,$z$) to the sphere ($x_c$,$y_c$,$z_c$,R) along the direction ($u$,$v$,$w$). \n",
    "\n",
    "Note: If the particle is inside the sphere there will be one positive and one negative solution.\n",
    "\n",
    "## Distance to plane:\n",
    "\n",
    "Write a function that will return the distance from a point ($x$,$y$,$z$) to the plane ($z=z_p$) along the direction ($u$,$v$,$w$). \n",
    "\n",
    "Note: The solution will be either positive or negative depending on the position and trajectory of the particle.\n",
    "\n",
    "## Distance to collision:\n",
    "\n",
    "Write a function that will return the number of mean free paths to the next collision via random sampling of the linear attenuation equation:  \n",
    "\n",
    "$$ \\Phi = \\Phi_o e^{-\\Sigma_t x}$$\n",
    "\n",
    "## Post-collision direction:\n",
    "\n",
    "Write a function that will return a post-collision direction vector (u,v,w) using isotropic scattering.\n",
    "\n",
    "## Next event: \n",
    "\n",
    "Using the outputs of these functions, determine which of the next events occurs:\n",
    "  - collision\n",
    "  - particle crosses into other hemisphere\n",
    "  - particle leaves sphere\n",
    "## Put it all together: \n",
    "\n",
    "Finally, create a loop that updates all the data as necessary to track a particle from its beginning at the point (1,2,3) until it leaves the sphere.\n",
    "Plot: Plot the particle's path as you track it.\n",
    "\n",
    "Please submit your Jupyter notebook and any handwritten work to Canvas."
   ]
  },
  {
   "cell_type": "code",
   "execution_count": null,
   "id": "76d5e153-b8c1-41dc-906b-b765df635277",
   "metadata": {},
   "outputs": [],
   "source": []
  }
 ],
 "metadata": {
  "kernelspec": {
   "display_name": "Python 3 (ipykernel)",
   "language": "python",
   "name": "python3"
  },
  "language_info": {
   "codemirror_mode": {
    "name": "ipython",
    "version": 3
   },
   "file_extension": ".py",
   "mimetype": "text/x-python",
   "name": "python",
   "nbconvert_exporter": "python",
   "pygments_lexer": "ipython3",
   "version": "3.12.7"
  }
 },
 "nbformat": 4,
 "nbformat_minor": 5
}
