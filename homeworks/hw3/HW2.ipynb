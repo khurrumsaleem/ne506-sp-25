{
 "cells": [
  {
   "cell_type": "markdown",
   "metadata": {},
   "source": [
    "In this homework assignment you will generate two geometries in OpenMC. These geometries do not represent realistic radiation transport problems; however, they showcase the capability and range of geometry modeling in OpenMC. \n",
    "\n",
    "  - Please comment your input files clearly.\n",
    "  - Please run particles through your model with a fixed source of your choosing to ensure the geometry definition is valid for transport.\n",
    "\n",
    "\n",
    "# I. Letter geometry\n",
    "\n",
    " - Create a geometry of your twoo/three initials in the x-y plane. Each letter should be 30 cm tall in the y direction and 10 cm deep in the z direction. Choose the dimensions and surfaces in the x direction to suit the shape of each letter. Please use at least 2 different letters (make one up if necessary). The letters should be enclosed in a box. Make sure to define all space outside your letters in the enclosure as vacuum.\n",
    "\n",
    "- Convert each of the letters to a numerical value (i.e., A=1, B=2, C=3, etc...). Fill each letter with the element that has the atomic number found in this conversion. For elements with more than one naturally occurring isotope, manually define the mixture of isotopes to match the natural abundance.\n",
    "\n"
   ]
  },
  {
   "cell_type": "markdown",
   "metadata": {},
   "source": [
    "# II. Table setting\n",
    "\n",
    "- Create a model of a place setting on a table. Include the table, a plate, a knife, a fork, and a wine glass. The specific details of the geometry of each piece are left to you, but they should be recognizable. For each object, use a material definition that approximates a typical material for that object (e.g., steel knife, glass, etc).  Fill the glass with a drink of your choice.\n",
    "\n",
    "- Add a second place setting opposite the first by creating a universe and filling another cell with this universe."
   ]
  },
  {
   "cell_type": "code",
   "execution_count": 1,
   "metadata": {},
   "outputs": [],
   "source": [
    "import openmc"
   ]
  },
  {
   "cell_type": "code",
   "execution_count": 2,
   "metadata": {},
   "outputs": [],
   "source": [
    "openmc.run?"
   ]
  },
  {
   "cell_type": "code",
   "execution_count": null,
   "metadata": {},
   "outputs": [],
   "source": []
  }
 ],
 "metadata": {
  "kernelspec": {
   "display_name": "Python 3",
   "language": "python",
   "name": "python3"
  },
  "language_info": {
   "codemirror_mode": {
    "name": "ipython",
    "version": 3
   },
   "file_extension": ".py",
   "mimetype": "text/x-python",
   "name": "python",
   "nbconvert_exporter": "python",
   "pygments_lexer": "ipython3",
   "version": "3.9.2"
  }
 },
 "nbformat": 4,
 "nbformat_minor": 2
}
