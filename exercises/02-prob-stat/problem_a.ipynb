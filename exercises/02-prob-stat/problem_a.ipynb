{
 "cells": [
  {
   "cell_type": "markdown",
   "metadata": {},
   "source": [
    "## Class Exercise: Day 2 - Probability and Statistics\n",
    "\n",
    "Problem A: Loading and visualizing the data\n",
    "\n",
    "For all three data files (`pdfa.npy`, `pdfb.npy`, `pdfc.npy`):\n",
    "\n",
    "✅ - indicates that this step is already done for you\n",
    "\n",
    "1. Read in the entire file (hint: `np.fromfile()` ). ✅\n",
    "2. Determine how many numbers are in the file (hint: `np.size()` ).\n",
    "3. Find the maximum and minimum values in the data (hint: `np.max()` and `np.min()` ).\n",
    "4. Plot a histogram of the frequency of the scores in 20 bins over a reasonable domain (hint: `plt.hist()` ). ✅\n",
    "\n",
    "Answer the following questions as a comment at the end of problem_a.ipynb:\n",
    "\n",
    "  - Which PDF appears to have a higher mean value?\n",
    "  - Which PDF appears to have a higher standard deviation?\n"
   ]
  },
  {
   "cell_type": "markdown",
   "metadata": {},
   "source": [
    "## Questions:\n",
    "\n",
    " - Which PDF appears to have a higher mean value?\n",
    "    \n",
    " - Which PDF appears to have a higher standard deviation?\n",
    "     "
   ]
  },
  {
   "cell_type": "code",
   "execution_count": null,
   "metadata": {},
   "outputs": [],
   "source": [
    "from matplotlib import pyplot as plt\n",
    "import numpy as np\n",
    "\n",
    "def problem_A(filename, label):\n",
    "    \"\"\"\n",
    "    Parameters\n",
    "    ----------\n",
    "    filename - string for the MAT-file to be loaded\n",
    "\n",
    "    label    - string to use when describing the data\n",
    "\n",
    "    Returns\n",
    "    -------\n",
    "    An 1D array of numbers that represent the data\n",
    "    \"\"\"\n",
    "\n",
    "    pdf = np.fromfile(filename)\n",
    "\n",
    "    # A.1 Determine how many numbers are in the file\n",
    "    pdf_len = None\n",
    "\n",
    "    # A.2 Determine the maximum and minimum values in the file\n",
    "    mx = None\n",
    "    mn = None\n",
    "\n",
    "    print(f'Distribution {filename} has {pdf_len} values between {mx} and {mn}')\n",
    "\n",
    "    # A.4 Plot a historgram of the frequency of the scores in 20 bins over a reasonable domain\n",
    "    plt.figure()\n",
    "    plt.title(label)\n",
    "    plt.hist(pdf, bins=20)\n",
    "    plt.show()"
   ]
  },
  {
   "cell_type": "code",
   "execution_count": null,
   "metadata": {},
   "outputs": [],
   "source": [
    "problem_A('pdfa.npy', 'pdfa')"
   ]
  },
  {
   "cell_type": "code",
   "execution_count": null,
   "metadata": {},
   "outputs": [],
   "source": [
    "problem_A('pdfb.npy', 'pdfb')"
   ]
  },
  {
   "cell_type": "code",
   "execution_count": null,
   "metadata": {},
   "outputs": [],
   "source": [
    "problem_A('pdfc.npy', 'pdfc')"
   ]
  }
 ],
 "metadata": {
  "kernelspec": {
   "display_name": "Python 3 (ipykernel)",
   "language": "python",
   "name": "python3"
  },
  "language_info": {
   "codemirror_mode": {
    "name": "ipython",
    "version": 3
   },
   "file_extension": ".py",
   "mimetype": "text/x-python",
   "name": "python",
   "nbconvert_exporter": "python",
   "pygments_lexer": "ipython3",
   "version": "3.10.1"
  }
 },
 "nbformat": 4,
 "nbformat_minor": 4
}
