{
 "cells": [
  {
   "cell_type": "code",
   "execution_count": null,
   "metadata": {},
   "outputs": [],
   "source": [
    "import openmc\n",
    "import openmc.lib\n",
    "import numpy as np\n",
    "from matplotlib import pyplot as plt"
   ]
  },
  {
   "cell_type": "markdown",
   "metadata": {},
   "source": [
    "\n",
    "# OpenMC Source Definitions\n",
    "In this exercise, you will explore OpenMC source definitions. There are four sub-exercises, each involving a source definition of increasing complexity. Please begin from the geometry provided below:\n",
    "\n",
    "**Use `model.plot` with the `n_samples` and `plane_tolerance` arguments to check your work**\n",
    "\n",
    "## I. Explicit Source Definition\n",
    "\n",
    "1. Plot the geometry (always a good idea).\n",
    "1. Add a 4 MeV isotropic neutron source at the center of the large sphere.\n",
    "1. Use the `sample_source` function provided below to retrieve and view information about the source sites' energy, position, and angle.\n",
    "1. Sample 10,000 particles uniformly within the large sphere using an `openmc.stats.Box` distribution and the `constraints` argument of `openmc.IndependentSource`.\n",
    "\n",
    "## II. Multiple Sources Sources\n",
    "\n",
    "Note: As you move through this section of the exercise, create a new source object for each source.\n",
    "\n",
    "Starting with the same geometry used in Part I, do the following:\n",
    "\n",
    "1. Place a 4 MeV source at the center of each sphere. Make the sources of equal intensity.\n",
    "1. Change the source definition so that the source in the large sphere has ten times the intensity of the source in the small sphere. Sample 50 source sites with `sample_source` and print their engery, position, and angle.\n",
    "1. Plot the source distribution using `model.plot`.\n",
    "1. Change the source definition to be a 4 MeV uniform line source (along the x axis) through center of the large sphere. Sample 50 source sites with `sample_source` and print their engery, position, and angle.\n",
    "1. Change the source definition to have uniform line sources through the centers of both spheres (along the x axis).\n",
    "   Sample 50 source sites with `sample_source` and print their engery, position, and angle. \n",
    "1. Adjust the relative probabilities of the line sources to reflect their length (i.e., there is a greater probability of the source particle being in the larger sphere). This will lead to uniform sampling along the two sources.\n",
    "\n",
    "## III. Independent Source Distribution\n",
    "\n",
    "1. Plot the geometry (always a good idea).\n",
    "1. Add two equal-strength planar sources with the following distributions:\n",
    "      - x distribution\n",
    "        - Source 1: x = 5.01\n",
    "        - Source 2: x = -7.99\n",
    "      - y distribution: Uniform between y=[-25, 25]\n",
    "      - z distribution: linearly varying from 0 at z=-25 to the highest value at z=25\n",
    "    - energy distribution:\n",
    "        - 1/4 with E=2 MeV\n",
    "        - 1/4 with E=12 MeV\n",
    "        - 1/2 with E distributed uniformly between 5 and 10 MeV\n",
    "      angle distribution:\n",
    "        - isotropic\n",
    "1. Plot the source distribution using `model.plot`. Hint: the `plane_tolerance` argument will be useful here.\n",
    "\n",
    "## IV. Dependent Source Distribution & Source Direction\n",
    "\n",
    "1. Plot the geometry (always a good idea).\n",
    "1. Define a set of isotropic point sources in the spheres that are centered on the circle of radius 5 cm.\n",
    "1. Modify these sources to be mono-directional and aimed at the center of the geometry.\n",
    "1. Use the `plot_sites` function provided at the end of this notebok to plot the position and direction of the\n",
    "   source sites.\n",
    "\n",
    "Please submit your notebook as \\<last_name\\>_openmc_sources.ipynb"
   ]
  },
  {
   "cell_type": "code",
   "execution_count": null,
   "metadata": {},
   "outputs": [],
   "source": [
    "from tempfile import TemporaryDirectory\n",
    "def sample_source(model, n_samples=1000, seed=1):\n",
    "    \"\"\" Initializes the OpenMC problem and samples source sites\n",
    "\n",
    "    Parameters\n",
    "    ----------\n",
    "    model : openmc.Model\n",
    "        The model object used for the source. Assumed to be a fixed source problem.\n",
    "\n",
    "    n_samples: Integral\n",
    "        The number of source sites to sample. Default is 1000.\n",
    "\n",
    "    seed: Integral\n",
    "        The random number seed used in OpenMC. Default is 1.\n",
    "    \"\"\"\n",
    "    with TemporaryDirectory() as d:\n",
    "        model.export_to_model_xml()\n",
    "        try:\n",
    "            openmc.lib.init()\n",
    "            openmc.lib.settings.seed = seed\n",
    "            openmc.lib.simulation_init()\n",
    "            sites = openmc.lib.sample_external_source(n_samples)\n",
    "        finally:\n",
    "            openmc.lib.finalize()\n",
    "\n",
    "    return sites"
   ]
  },
  {
   "cell_type": "markdown",
   "metadata": {},
   "source": [
    "## Part I and II Geometry"
   ]
  },
  {
   "cell_type": "code",
   "execution_count": null,
   "metadata": {},
   "outputs": [],
   "source": [
    "# materials\n",
    "water = openmc.Material()\n",
    "water.set_density('g/cm3', 1.0)\n",
    "water.add_nuclide('H1', 2.0, 'ao')\n",
    "water.add_nuclide('O16', 1.0, 'ao')\n",
    "\n",
    "# surfaces\n",
    "pos_sphere = openmc.Sphere(x0=25, r=10)\n",
    "neg_sphere = openmc.Sphere(x0=-25, r=30)\n",
    "rect_prism = openmc.model.RectangularParallelepiped(xmin=-100,\n",
    "                                                    xmax=100,\n",
    "                                                    ymin=-100,\n",
    "                                                    ymax=100,\n",
    "                                                    zmin=-100,\n",
    "                                                    zmax=100,\n",
    "                                                    boundary_type='vacuum')\n",
    "\n",
    "# cells\n",
    "pos_cell = openmc.Cell(region=-pos_sphere, fill=water)\n",
    "neg_cell = openmc.Cell(region=-neg_sphere, fill=water)\n",
    "outer_region = +neg_sphere & +pos_sphere & - rect_prism\n",
    "outer_cell = openmc.Cell(region=outer_region)\n",
    "\n",
    "# geometry object\n",
    "geometry = openmc.Geometry([pos_cell, neg_cell, outer_cell])"
   ]
  },
  {
   "cell_type": "code",
   "execution_count": null,
   "metadata": {},
   "outputs": [],
   "source": [
    "geometry.plot(pixels=(600, 600))\n",
    "plt.show()"
   ]
  },
  {
   "cell_type": "markdown",
   "metadata": {},
   "source": [
    "## Part III Geometry"
   ]
  },
  {
   "cell_type": "code",
   "execution_count": null,
   "metadata": {},
   "outputs": [],
   "source": [
    "# materials\n",
    "iron = openmc.Material()\n",
    "iron.set_density('g/cm3', 7.874)\n",
    "iron.add_element('Fe', 1.0)\n",
    "\n",
    "water = openmc.Material()\n",
    "water.set_density('g/cm3', 1.0)\n",
    "water.add_nuclide('H1', 2.0, 'ao')\n",
    "water.add_nuclide('O16', 1.0, 'ao')\n",
    "\n",
    "# surfaces\n",
    "rect0 = openmc.model.RectangularParallelepiped(5, 25, -25, 25, -25, 25)\n",
    "rect1 = openmc.model.RectangularParallelepiped(-30, -8, -25, 25, -25, 25)\n",
    "rcc0 = openmc.model.RightCircularCylinder(center_base=(-8, 0, 0),\n",
    "                                          height=13,\n",
    "                                          radius=20,\n",
    "                                          axis='x')\n",
    "rect2 = openmc.model.RectangularParallelepiped(-45, 45, -30, 30, -30, 30, boundary_type='vacuum')\n",
    "\n",
    "# cells\n",
    "iron_cell1 = openmc.Cell(region=-rect0, fill=iron)\n",
    "iron_cell2 = openmc.Cell(region=-rect1, fill=iron)\n",
    "water_cell = openmc.Cell(region=-rcc0, fill=water)\n",
    "void_cell = openmc.Cell(region=+rect0 & +rect1 & +rcc0 & -rect2)\n",
    "\n",
    "# create geometry\n",
    "geometry = openmc.Geometry([iron_cell1, iron_cell2, water_cell, void_cell])"
   ]
  },
  {
   "cell_type": "code",
   "execution_count": null,
   "metadata": {},
   "outputs": [],
   "source": [
    "geometry.plot(pixels=(600, 600))\n",
    "geometry.plot(pixels=(600, 600), basis='yz')\n",
    "geometry.plot(pixels=(600, 600), basis='yz', origin=(-10, 0, 0))\n",
    "geometry.plot(pixels=(600, 600), basis='yz', origin=(10, 0, 0))"
   ]
  },
  {
   "cell_type": "markdown",
   "metadata": {},
   "source": [
    "## Part IV Geometry"
   ]
  },
  {
   "cell_type": "code",
   "execution_count": null,
   "metadata": {},
   "outputs": [],
   "source": [
    "# surfaces\n",
    "radius = 0.2\n",
    "centers = [(5, 0, 0),\n",
    "           (4.33, 2.5, 0),\n",
    "           (2.5, 4.33, 0),\n",
    "           (0, 5, 0),\n",
    "           (3.536, -3.536, 0),\n",
    "           (0, 0, 0)]\n",
    "\n",
    "spheres = [openmc.Sphere(r=radius, x0=x, y0=y, z0=z) for x, y, z in centers]\n",
    "outer_sphere = openmc.Sphere(r=25, boundary_type='vacuum')\n",
    "\n",
    "# cells\n",
    "cells = [openmc.Cell(region=-sphere, fill=water) for sphere in spheres]\n",
    "outer_region = -outer_sphere\n",
    "for sphere in spheres:\n",
    "    outer_region &= +sphere\n",
    "outer_cell = openmc.Cell(region=outer_region)\n",
    "\n",
    "# create geometry object\n",
    "geometry = openmc.Geometry([*cells, outer_cell])"
   ]
  },
  {
   "cell_type": "code",
   "execution_count": null,
   "metadata": {},
   "outputs": [],
   "source": [
    "geometry.plot(width=(15, 15), origin=(2.5, 0, 0), pixels=(600, 600))\n",
    "plt.show()"
   ]
  },
  {
   "cell_type": "code",
   "execution_count": null,
   "metadata": {},
   "outputs": [],
   "source": [
    "from matplotlib import pyplot as plt\n",
    "\n",
    "def plot_sites(ax, sites, basis='xy', arrows=False):\n",
    "    \"\"\"Add sites to the matplotlib axes\n",
    "\n",
    "    Parameters\n",
    "    ----------\n",
    "    ax : matplotlib.axes object\n",
    "        Generally, the axes returned from `openmc.Universe.plot`\n",
    "\n",
    "    sites : Iterable of openmc.SourceParticle\n",
    "        The source sites to plot\n",
    "\n",
    "    basis : One of ('xy, 'yz', 'xz')\n",
    "        The basis of the plot. Default is 'xy'.\n",
    "\n",
    "    arrows : bool\n",
    "        Whether or not to plot the sites as arrows or dots.\n",
    "    \"\"\"\n",
    "\n",
    "    basis_indices = {'xy': [0, 1],\n",
    "                     'yz': [1, 2],\n",
    "                     'xz': [0, 2]}\n",
    "\n",
    "    indices = basis_indices[basis]\n",
    "\n",
    "    for site in sites:\n",
    "        x, y = np.asarray(site.r)[indices]\n",
    "        u, v = np.asarray(site.u)[indices]\n",
    "        if arrows:\n",
    "            ax.arrow(x, y, u, v, head_width=0.1)\n",
    "        else:\n",
    "            ax.plot(x, y,  marker='o', markerfacecolor='blue')\n"
   ]
  },
  {
   "cell_type": "code",
   "execution_count": null,
   "metadata": {},
   "outputs": [],
   "source": [
    "sites = sample_source(model, n_samples=1000)\n",
    "for site in sites[:10]:\n",
    "    print(site.E, site.r, site.u)\n",
    "geometry.plot(width=(10, 12), origin=(2.5, 0, 0), pixels=(600, 600))\n",
    "plot_sites(plt.gca(), sites, basis='xy', arrows=True)\n",
    "plt.show()"
   ]
  }
 ],
 "metadata": {
  "kernelspec": {
   "display_name": "Python 3 (ipykernel)",
   "language": "python",
   "name": "python3"
  },
  "language_info": {
   "codemirror_mode": {
    "name": "ipython",
    "version": 3
   },
   "file_extension": ".py",
   "mimetype": "text/x-python",
   "name": "python",
   "nbconvert_exporter": "python",
   "pygments_lexer": "ipython3",
   "version": "3.12.7"
  }
 },
 "nbformat": 4,
 "nbformat_minor": 4
}
