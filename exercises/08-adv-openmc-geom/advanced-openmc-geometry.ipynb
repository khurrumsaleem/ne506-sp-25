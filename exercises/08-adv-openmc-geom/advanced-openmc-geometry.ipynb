{
 "cells": [
  {
   "cell_type": "code",
   "execution_count": null,
   "id": "injured-aerospace",
   "metadata": {},
   "outputs": [],
   "source": [
    "import openmc\n",
    "from matplotlib import pyplot as plt\n",
    "import numpy as np"
   ]
  },
  {
   "cell_type": "markdown",
   "id": "6e3fc2f8",
   "metadata": {},
   "source": [
    "## Part I: Full Geometry Model\n",
    "\n",
    "In this section, you will develop a simple model of a realistic system. \n",
    "\n",
    "The system represents an integral experiment for measuring neutron cross sections,\n",
    "in which an ion beam is directed at a target to produce neutrons in the center\n",
    "of a sphere of test material.\n",
    "\n",
    "Rather than modeling the ion beam, we will make\n",
    "assumptions about the source and instead model a pure neutron beam. How\n",
    "convenient for us.\n",
    "\n",
    "1. Beginning with the materials below, generate a model for the geometry desribed below\n",
    "\n",
    "    The model consists of a sphere of Be (radius, r=25 cm) with a 2 cm-radius hole\n",
    "    running from one side to the center. \n",
    "    Centered in the sphere is a disc-shaped\n",
    "    tritium target (r=2 cm, thickness=0.5 cm). \n",
    "    \n",
    "    The Be sphere is embedded in a sphere\n",
    "    of concrete (r=40 cm) that also has a 2 cm-radius hole (aligned with the hole in\n",
    "    the Be sphere).\n",
    "\n",
    "\n",
    "2. Now modify the above model according to the following\n",
    "\n",
    "    - Using a `CompositeSurface`, replace the concrete sphere with a concrete\n",
    "    cube that has the same extents.\n",
    "    - Replace the cylindrical hole in the Be with a cone that opens from a\n",
    "    radius of 2 cm near the target to a radius of 4 cm at the outside of the Be\n",
    "    sphere (i.e., at r=25 cm).\n",
    "    - The hole should continue through the concrete as\n",
    "    a 4 cm radius cylinder.\n",
    "\n",
    "3. Define any additional space that is left undefined inside the radius of the concrete sphere (r = 40cm).\n",
    "\n",
    "4. Apply appropriate boundary conditions to the exterior surfaces of the model.\n",
    "\n",
    "5. Plot both the cells and materials with a plane that slices through center of the hole.\n",
    "\n",
    "A plot of the geometry in the x-y (z=0) should look like the image below"
   ]
  },
  {
   "attachments": {
    "download.png": {
     "image/png": "[encoded data removed]"
    }
   },
   "cell_type": "markdown",
   "id": "58210c84",
   "metadata": {},
   "source": [
    "![download.png](attachment:download.png)"
   ]
  },
  {
   "cell_type": "markdown",
   "id": "growing-needle",
   "metadata": {},
   "source": [
    "## Part II: Repeated Geometry\n",
    "\n",
    "\n",
    "In this section, you will use a rectangular lattice to generate a 10 x 10 x 1\n",
    "array of spheres\n",
    "\n",
    "**The lattice should be centered on (3, 3, 0). The model should span -2 to 2 cm in the z direction for one axial layer.**\n",
    "\n",
    "In this lattice, the spheres will alternate in both directions\n",
    "between a 1 cm radius sphere of Uranium-235 and a 0.5 cm radius sphere of boron.\n",
    "\n",
    "All spheres are spaced 4 cm apart.\n",
    "\n",
    "The spaces between the spheres is filled with water. The\n",
    "following steps will help you create this geometry.\n",
    "\n",
    "Create the following surfacces:\n",
    "\n",
    "  - Create surfaces for the two spheres (r=1 cm and r=0.5 cm). Both surfaces may be defined at the origin. The spheres will not overlap when they are used in the lattice.\n",
    "  - Create a surface (macrobody) [or surfaces (planes)] to define a single lattice element that surrounds the spheres\n",
    "  - Create a surface to define the outer boundary of the entire lattice.\n",
    "\n",
    "Create the following cells:\n",
    "\n",
    "  - Create cells for each of the spheres and surrounding water (there should be two distinct water cells).\n",
    "  - Create universes for the uranium+water and boron+water cell combinations.\n",
    "  - Create the lattice as described above\n",
    "  - Create a cell with a region that bounds the entire lattice and fill it with the lattice. Apply an appropriate boundary condition to this cell.\n",
    "  - Create a universe that contains the lattice cell.\n",
    "  - Plot the final lattice colored by both cell and material.\n",
    "  - Finally, attempt a successful simulation with geometry debugging enabled."
   ]
  },
  {
   "cell_type": "code",
   "execution_count": null,
   "id": "1276b7f2",
   "metadata": {},
   "outputs": [],
   "source": [
    "be = openmc.Material()\n",
    "be.set_density('g/cc', 1.85)\n",
    "be.add_nuclide('Be9', 1.0)\n",
    "\n",
    "tritium = openmc.Material()\n",
    "tritium.set_density('g/cc', 0.01)\n",
    "tritium.add_nuclide('H3', 1.0)\n",
    "\n",
    "concrete = openmc.Material()\n",
    "concrete.set_density('g/cc', 3.0)\n",
    "concrete.add_nuclide('Ba132', 0.5, 'wo')\n",
    "concrete.add_nuclide('O16', 0.2, 'wo')\n",
    "concrete.add_nuclide('H1', 0.1, 'wo')\n",
    "\n",
    "water = openmc.Material()\n",
    "water.set_density('g/cc', 1.0)\n",
    "water.add_nuclide('H1', 2.0)\n",
    "water.add_nuclide('O16', 1.0)\n",
    "\n",
    "boron = openmc.Material()\n",
    "boron.set_density('g/cc', 2.5)\n",
    "boron.add_nuclide('B11', 1.0)\n",
    "\n",
    "U235 = openmc.Material()\n",
    "U235.set_density('g/cc', 10)\n",
    "U235.add_nuclide('U235', 1.0)"
   ]
  },
  {
   "cell_type": "code",
   "execution_count": null,
   "id": "beb24e04",
   "metadata": {},
   "outputs": [],
   "source": [
    "# execution settings\n",
    "settings = openmc.Settings()\n",
    "settings.particles = 5000\n",
    "settings.batches = 100\n",
    "settings.inactive = 10\n",
    "\n",
    "# don't forget to export the model to XML!\n",
    "openmc.run(geometry_debug=True)"
   ]
  }
 ],
 "metadata": {
  "kernelspec": {
   "display_name": "Python 3 (ipykernel)",
   "language": "python",
   "name": "python3"
  },
  "language_info": {
   "codemirror_mode": {
    "name": "ipython",
    "version": 3
   },
   "file_extension": ".py",
   "mimetype": "text/x-python",
   "name": "python",
   "nbconvert_exporter": "python",
   "pygments_lexer": "ipython3",
   "version": "3.12.3"
  }
 },
 "nbformat": 4,
 "nbformat_minor": 5
}
