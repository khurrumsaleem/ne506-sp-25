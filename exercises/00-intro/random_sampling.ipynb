{
 "cells": [
  {
   "cell_type": "code",
   "execution_count": 1,
   "id": "e51d3248-87fa-40a6-a2cc-dbf2320a2582",
   "metadata": {},
   "outputs": [],
   "source": [
    "import numpy as np\n",
    "from matplotlib import pyplot as plt"
   ]
  },
  {
   "cell_type": "code",
   "execution_count": 2,
   "id": "864bf667-dcce-4cef-9f59-2399a61ed6ec",
   "metadata": {},
   "outputs": [],
   "source": [
    "from function import f"
   ]
  },
  {
   "cell_type": "code",
   "execution_count": 3,
   "id": "430eb9aa-0209-4694-9ffc-23b455c18ff5",
   "metadata": {},
   "outputs": [
    {
     "name": "stdout",
     "output_type": "stream",
     "text": [
      "Help on function f in module function:\n",
      "\n",
      "f(x)\n",
      "    A continuous function defined over (1, 10)\n",
      "    \n",
      "    Parameters\n",
      "    ----------\n",
      "    x : float\n",
      "      Input value. Expected to be > 1.\n",
      "    \n",
      "    Returns\n",
      "    -------\n",
      "    \n",
      "    float\n",
      "\n"
     ]
    }
   ],
   "source": [
    "help(f)"
   ]
  }
 ],
 "metadata": {
  "kernelspec": {
   "display_name": "Python 3 (ipykernel)",
   "language": "python",
   "name": "python3"
  },
  "language_info": {
   "codemirror_mode": {
    "name": "ipython",
    "version": 3
   },
   "file_extension": ".py",
   "mimetype": "text/x-python",
   "name": "python",
   "nbconvert_exporter": "python",
   "pygments_lexer": "ipython3",
   "version": "3.10.7"
  }
 },
 "nbformat": 4,
 "nbformat_minor": 5
}
