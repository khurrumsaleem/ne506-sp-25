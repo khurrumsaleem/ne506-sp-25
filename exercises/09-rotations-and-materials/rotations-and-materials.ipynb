{
 "cells": [
  {
   "cell_type": "code",
   "execution_count": 1,
   "metadata": {},
   "outputs": [],
   "source": [
    "import openmc\n",
    "import numpy as np\n",
    "from matplotlib import pyplot as plt"
   ]
  },
  {
   "cell_type": "markdown",
   "metadata": {},
   "source": [
    "This exercise involves the creation of three geometries using translations and rotations on surfaces. In the final section, materials will also be created."
   ]
  },
  {
   "cell_type": "markdown",
   "metadata": {},
   "source": [
    "\n",
    "# I. Simple Rotation\n",
    "\n",
    "In this sub-exercise, you will use a transformation in order to create a simple geometry. \n",
    "\n",
    "- Create a new notebook. In this notebook, create a cube of side length of 4 cm with vacuum boundary conditions and with one corner at (0,0,0) and x, y, and z domains of [0,4] cm. \n",
    "\n",
    "- Create a cylinder (r=0.2 cm) along the x axis. \n",
    "\n",
    "- Apply a transformation to this surface to create a hole along the diagonal of the cube in the YZ plane [i.e., along (0,1,1)]. This surface transformation is achieved using a single-axis rotation using the `Surface.rotate` method.\n",
    "\n",
    "Think carefully about which surface [rotations you should use](https://docs.openmc.org/en/stable/pythonapi/generated/openmc.Surface.html#openmc.Surface.rotate). Use plots to see if your rotation worked properly."
   ]
  },
  {
   "cell_type": "markdown",
   "metadata": {},
   "source": [
    "----"
   ]
  },
  {
   "cell_type": "markdown",
   "metadata": {},
   "source": [
    "\n",
    "# II. Full geometry model + diagnostic port\n",
    "\n",
    "Template: Your solution to the previous exercise\n",
    "\n",
    "This sub-exercise is a continuation of the previous in-class exercise. Please use your submission for that exercise as a starting point (if you did not complete this exercise, use the solution). Your geometry should already include the following:\n",
    "\n",
    " - A sphere of Be (radius, r=25 cm) with a conical hole (r=2 cm near the target; r=4 cm at the surface of the sphere) from one side to the center.\n",
    " - A 0.5 cm-thick tritium disk (r=2 cm) embedded in the center of the sphere.\n",
    " - A cube of concrete surrounding the Be. The concrete should have a 4 cm-radius hole aligned with the hole in the Be.\n",
    "\n",
    "You will now add a pair of diagnostic ports on to the existing geometry. These ports represent space to place detectors for measuring neutrons that are transmitted through the Be sphere. Use cell transformations to accomplish the following:\n",
    "\n",
    " - Add a cylindrical port (r=1 cm) that passes through the concrete to the surface of the sphere. The central axis should be at an angle of 60 degrees relative to the axis of the original beam port.\n",
    " - Add another diagnostic port, this time on the other side of the original beam port. The central axis should be at a 50 degree angle relative to axis of the original beam port.  This port should be defined by r=1 cm at the surface of the Be sphere, r=2 cm at the surface of the concrete, and r=1.2 cm at a point half-way between.\n",
    "\n",
    "```\n",
    "Note: One of the aspects of this problem is the necessity of interpreting a potentially vague description of the system.\n",
    "```\n"
   ]
  },
  {
   "cell_type": "markdown",
   "metadata": {},
   "source": [
    "----"
   ]
  },
  {
   "cell_type": "markdown",
   "metadata": {},
   "source": [
    "\n",
    "# III. Rotations and materials\n",
    "\n",
    "In this sub-exercise, use the `clone` capability of cells to create a model.\n",
    "\n",
    "The geometry you create in this file will represent Stonehenge. Using a single surface, create 12 blocks (150 cm x 100 cm x 400 cm) standing on their small faces (in the yz plane) and arranged in a circle (r=500 cm) with 30 degree spacing (i.e., at the 12 positions of a clock face around the x axis). Each block should be positioned with its largest face pointing outward. Use a pure translation in cells in order to define the first stone. After that, use clones of the original cell with new rotations to define the remaining cells.\n",
    "\n",
    "Create materials and fill the cells according to the following:\n",
    "\n",
    "- Blocks 1, 4, 7, 10: water with densities of 1.0, 0.9, 0.8, 0.7 g/cm3, respectively.\n",
    "- Blocks 2, 5, 8, 11: [NIST-defined Portland](https://physics.nist.gov/cgi-bin/Star/compos.pl?matno=144). (=2.3 g/cc) using natural abundances of all isotopes.\n",
    "- Blocks 3, 6, 9, 12: vanadium metal at a nominal solid density (look it up).\n",
    "\n",
    "Add all of these cells to a universe and plot the model colored by material to verify your results."
   ]
  },
  {
   "cell_type": "markdown",
   "metadata": {},
   "source": [
    "Now, generate and apply the materials to the cells. Verify that these materials are assigned correctly by plotting the material."
   ]
  },
  {
   "cell_type": "markdown",
   "metadata": {},
   "source": [
    "Finally, create these materials again using a new nuclear dataset. These are provided openly [here](https://openmc.org/official-data-libraries/).\n",
    "\n",
    "Remember, new datasets can be applied in OpenMC using settings in `openmc.config`."
   ]
  },
  {
   "cell_type": "code",
   "execution_count": null,
   "metadata": {},
   "outputs": [],
   "source": []
  }
 ],
 "metadata": {
  "kernelspec": {
   "display_name": "Python 3 (ipykernel)",
   "language": "python",
   "name": "python3"
  },
  "language_info": {
   "codemirror_mode": {
    "name": "ipython",
    "version": 3
   },
   "file_extension": ".py",
   "mimetype": "text/x-python",
   "name": "python",
   "nbconvert_exporter": "python",
   "pygments_lexer": "ipython3",
   "version": "3.12.7"
  }
 },
 "nbformat": 4,
 "nbformat_minor": 4
}
